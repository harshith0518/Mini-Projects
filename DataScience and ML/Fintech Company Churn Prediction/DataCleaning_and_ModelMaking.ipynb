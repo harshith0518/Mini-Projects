{
 "cells": [
  {
   "cell_type": "code",
   "execution_count": 1,
   "id": "a8430d1d-3ef3-4582-8159-e31c4c112a00",
   "metadata": {},
   "outputs": [],
   "source": [
    "import pandas as pd\n",
    "import numpy as np\n",
    "import matplotlib.pyplot as plt\n",
    "from sklearn.model_selection import train_test_split\n",
    "\n",
    "df = pd.read_csv('Fintech_user.csv')"
   ]
  },
  {
   "cell_type": "code",
   "execution_count": 2,
   "id": "4d36164e-73df-4764-92c8-0dc0fa909ece",
   "metadata": {},
   "outputs": [
    {
     "data": {
      "text/html": [
       "<div>\n",
       "<style scoped>\n",
       "    .dataframe tbody tr th:only-of-type {\n",
       "        vertical-align: middle;\n",
       "    }\n",
       "\n",
       "    .dataframe tbody tr th {\n",
       "        vertical-align: top;\n",
       "    }\n",
       "\n",
       "    .dataframe thead th {\n",
       "        text-align: right;\n",
       "    }\n",
       "</style>\n",
       "<table border=\"1\" class=\"dataframe\">\n",
       "  <thead>\n",
       "    <tr style=\"text-align: right;\">\n",
       "      <th></th>\n",
       "      <th>user</th>\n",
       "      <th>churn</th>\n",
       "      <th>age</th>\n",
       "      <th>housing</th>\n",
       "      <th>credit_score</th>\n",
       "      <th>deposits</th>\n",
       "      <th>withdrawal</th>\n",
       "      <th>purchases_partners</th>\n",
       "      <th>purchases</th>\n",
       "      <th>cc_taken</th>\n",
       "      <th>...</th>\n",
       "      <th>waiting_4_loan</th>\n",
       "      <th>cancelled_loan</th>\n",
       "      <th>received_loan</th>\n",
       "      <th>rejected_loan</th>\n",
       "      <th>zodiac_sign</th>\n",
       "      <th>left_for_two_month_plus</th>\n",
       "      <th>left_for_one_month</th>\n",
       "      <th>rewards_earned</th>\n",
       "      <th>reward_rate</th>\n",
       "      <th>is_referred</th>\n",
       "    </tr>\n",
       "  </thead>\n",
       "  <tbody>\n",
       "    <tr>\n",
       "      <th>0</th>\n",
       "      <td>55409</td>\n",
       "      <td>0</td>\n",
       "      <td>37.0</td>\n",
       "      <td>na</td>\n",
       "      <td>NaN</td>\n",
       "      <td>0</td>\n",
       "      <td>0</td>\n",
       "      <td>0</td>\n",
       "      <td>0</td>\n",
       "      <td>0</td>\n",
       "      <td>...</td>\n",
       "      <td>0</td>\n",
       "      <td>0</td>\n",
       "      <td>0</td>\n",
       "      <td>0</td>\n",
       "      <td>Leo</td>\n",
       "      <td>1</td>\n",
       "      <td>0</td>\n",
       "      <td>NaN</td>\n",
       "      <td>0.00</td>\n",
       "      <td>0</td>\n",
       "    </tr>\n",
       "    <tr>\n",
       "      <th>1</th>\n",
       "      <td>23547</td>\n",
       "      <td>0</td>\n",
       "      <td>28.0</td>\n",
       "      <td>R</td>\n",
       "      <td>486.0</td>\n",
       "      <td>0</td>\n",
       "      <td>0</td>\n",
       "      <td>1</td>\n",
       "      <td>0</td>\n",
       "      <td>0</td>\n",
       "      <td>...</td>\n",
       "      <td>0</td>\n",
       "      <td>0</td>\n",
       "      <td>0</td>\n",
       "      <td>0</td>\n",
       "      <td>Leo</td>\n",
       "      <td>0</td>\n",
       "      <td>0</td>\n",
       "      <td>44.0</td>\n",
       "      <td>1.47</td>\n",
       "      <td>1</td>\n",
       "    </tr>\n",
       "    <tr>\n",
       "      <th>2</th>\n",
       "      <td>58313</td>\n",
       "      <td>0</td>\n",
       "      <td>35.0</td>\n",
       "      <td>R</td>\n",
       "      <td>561.0</td>\n",
       "      <td>47</td>\n",
       "      <td>2</td>\n",
       "      <td>86</td>\n",
       "      <td>47</td>\n",
       "      <td>0</td>\n",
       "      <td>...</td>\n",
       "      <td>0</td>\n",
       "      <td>0</td>\n",
       "      <td>0</td>\n",
       "      <td>0</td>\n",
       "      <td>Capricorn</td>\n",
       "      <td>1</td>\n",
       "      <td>0</td>\n",
       "      <td>65.0</td>\n",
       "      <td>2.17</td>\n",
       "      <td>0</td>\n",
       "    </tr>\n",
       "    <tr>\n",
       "      <th>3</th>\n",
       "      <td>8095</td>\n",
       "      <td>0</td>\n",
       "      <td>26.0</td>\n",
       "      <td>R</td>\n",
       "      <td>567.0</td>\n",
       "      <td>26</td>\n",
       "      <td>3</td>\n",
       "      <td>38</td>\n",
       "      <td>25</td>\n",
       "      <td>0</td>\n",
       "      <td>...</td>\n",
       "      <td>0</td>\n",
       "      <td>0</td>\n",
       "      <td>0</td>\n",
       "      <td>0</td>\n",
       "      <td>Capricorn</td>\n",
       "      <td>0</td>\n",
       "      <td>0</td>\n",
       "      <td>33.0</td>\n",
       "      <td>1.10</td>\n",
       "      <td>1</td>\n",
       "    </tr>\n",
       "    <tr>\n",
       "      <th>4</th>\n",
       "      <td>61353</td>\n",
       "      <td>1</td>\n",
       "      <td>27.0</td>\n",
       "      <td>na</td>\n",
       "      <td>NaN</td>\n",
       "      <td>0</td>\n",
       "      <td>0</td>\n",
       "      <td>2</td>\n",
       "      <td>0</td>\n",
       "      <td>0</td>\n",
       "      <td>...</td>\n",
       "      <td>0</td>\n",
       "      <td>0</td>\n",
       "      <td>0</td>\n",
       "      <td>0</td>\n",
       "      <td>Aries</td>\n",
       "      <td>1</td>\n",
       "      <td>0</td>\n",
       "      <td>1.0</td>\n",
       "      <td>0.03</td>\n",
       "      <td>0</td>\n",
       "    </tr>\n",
       "  </tbody>\n",
       "</table>\n",
       "<p>5 rows × 31 columns</p>\n",
       "</div>"
      ],
      "text/plain": [
       "    user  churn   age housing  credit_score  deposits  withdrawal  \\\n",
       "0  55409      0  37.0      na           NaN         0           0   \n",
       "1  23547      0  28.0       R         486.0         0           0   \n",
       "2  58313      0  35.0       R         561.0        47           2   \n",
       "3   8095      0  26.0       R         567.0        26           3   \n",
       "4  61353      1  27.0      na           NaN         0           0   \n",
       "\n",
       "   purchases_partners  purchases  cc_taken  ...  waiting_4_loan  \\\n",
       "0                   0          0         0  ...               0   \n",
       "1                   1          0         0  ...               0   \n",
       "2                  86         47         0  ...               0   \n",
       "3                  38         25         0  ...               0   \n",
       "4                   2          0         0  ...               0   \n",
       "\n",
       "   cancelled_loan  received_loan  rejected_loan  zodiac_sign  \\\n",
       "0               0              0              0          Leo   \n",
       "1               0              0              0          Leo   \n",
       "2               0              0              0    Capricorn   \n",
       "3               0              0              0    Capricorn   \n",
       "4               0              0              0        Aries   \n",
       "\n",
       "   left_for_two_month_plus  left_for_one_month  rewards_earned  reward_rate  \\\n",
       "0                        1                   0             NaN         0.00   \n",
       "1                        0                   0            44.0         1.47   \n",
       "2                        1                   0            65.0         2.17   \n",
       "3                        0                   0            33.0         1.10   \n",
       "4                        1                   0             1.0         0.03   \n",
       "\n",
       "   is_referred  \n",
       "0            0  \n",
       "1            1  \n",
       "2            0  \n",
       "3            1  \n",
       "4            0  \n",
       "\n",
       "[5 rows x 31 columns]"
      ]
     },
     "execution_count": 2,
     "metadata": {},
     "output_type": "execute_result"
    }
   ],
   "source": [
    "df.head()"
   ]
  },
  {
   "cell_type": "code",
   "execution_count": 3,
   "id": "f66df254-a13d-4f3f-8489-3d784d8c5ebf",
   "metadata": {},
   "outputs": [
    {
     "data": {
      "text/plain": [
       "(27000, 31)"
      ]
     },
     "execution_count": 3,
     "metadata": {},
     "output_type": "execute_result"
    }
   ],
   "source": [
    "df.shape"
   ]
  },
  {
   "cell_type": "code",
   "execution_count": 4,
   "id": "12ec1c35-a5b3-4342-a76f-1eef1b442921",
   "metadata": {},
   "outputs": [
    {
     "data": {
      "text/plain": [
       "24741"
      ]
     },
     "execution_count": 4,
     "metadata": {},
     "output_type": "execute_result"
    }
   ],
   "source": [
    "df.user.nunique()"
   ]
  },
  {
   "cell_type": "code",
   "execution_count": 5,
   "id": "27b3ad94-efa0-4f8e-9e32-a7b22cfdc360",
   "metadata": {},
   "outputs": [
    {
     "data": {
      "text/plain": [
       "(26542, 31)"
      ]
     },
     "execution_count": 5,
     "metadata": {},
     "output_type": "execute_result"
    }
   ],
   "source": [
    "df.drop_duplicates().shape"
   ]
  },
  {
   "cell_type": "code",
   "execution_count": 6,
   "id": "6085f566-3135-4228-bd31-9f9c6d5baee8",
   "metadata": {},
   "outputs": [
    {
     "data": {
      "text/html": [
       "<div>\n",
       "<style scoped>\n",
       "    .dataframe tbody tr th:only-of-type {\n",
       "        vertical-align: middle;\n",
       "    }\n",
       "\n",
       "    .dataframe tbody tr th {\n",
       "        vertical-align: top;\n",
       "    }\n",
       "\n",
       "    .dataframe thead th {\n",
       "        text-align: right;\n",
       "    }\n",
       "</style>\n",
       "<table border=\"1\" class=\"dataframe\">\n",
       "  <thead>\n",
       "    <tr style=\"text-align: right;\">\n",
       "      <th></th>\n",
       "      <th>user</th>\n",
       "      <th>churn</th>\n",
       "      <th>age</th>\n",
       "      <th>housing</th>\n",
       "      <th>credit_score</th>\n",
       "      <th>deposits</th>\n",
       "      <th>withdrawal</th>\n",
       "      <th>purchases_partners</th>\n",
       "      <th>purchases</th>\n",
       "      <th>cc_taken</th>\n",
       "      <th>...</th>\n",
       "      <th>waiting_4_loan</th>\n",
       "      <th>cancelled_loan</th>\n",
       "      <th>received_loan</th>\n",
       "      <th>rejected_loan</th>\n",
       "      <th>zodiac_sign</th>\n",
       "      <th>left_for_two_month_plus</th>\n",
       "      <th>left_for_one_month</th>\n",
       "      <th>rewards_earned</th>\n",
       "      <th>reward_rate</th>\n",
       "      <th>is_referred</th>\n",
       "    </tr>\n",
       "  </thead>\n",
       "  <tbody>\n",
       "    <tr>\n",
       "      <th>0</th>\n",
       "      <td>55409</td>\n",
       "      <td>0</td>\n",
       "      <td>37.0</td>\n",
       "      <td>na</td>\n",
       "      <td>NaN</td>\n",
       "      <td>0</td>\n",
       "      <td>0</td>\n",
       "      <td>0</td>\n",
       "      <td>0</td>\n",
       "      <td>0</td>\n",
       "      <td>...</td>\n",
       "      <td>0</td>\n",
       "      <td>0</td>\n",
       "      <td>0</td>\n",
       "      <td>0</td>\n",
       "      <td>Leo</td>\n",
       "      <td>1</td>\n",
       "      <td>0</td>\n",
       "      <td>NaN</td>\n",
       "      <td>0.00</td>\n",
       "      <td>0</td>\n",
       "    </tr>\n",
       "    <tr>\n",
       "      <th>1</th>\n",
       "      <td>23547</td>\n",
       "      <td>0</td>\n",
       "      <td>28.0</td>\n",
       "      <td>R</td>\n",
       "      <td>486.0</td>\n",
       "      <td>0</td>\n",
       "      <td>0</td>\n",
       "      <td>1</td>\n",
       "      <td>0</td>\n",
       "      <td>0</td>\n",
       "      <td>...</td>\n",
       "      <td>0</td>\n",
       "      <td>0</td>\n",
       "      <td>0</td>\n",
       "      <td>0</td>\n",
       "      <td>Leo</td>\n",
       "      <td>0</td>\n",
       "      <td>0</td>\n",
       "      <td>44.0</td>\n",
       "      <td>1.47</td>\n",
       "      <td>1</td>\n",
       "    </tr>\n",
       "    <tr>\n",
       "      <th>2</th>\n",
       "      <td>58313</td>\n",
       "      <td>0</td>\n",
       "      <td>35.0</td>\n",
       "      <td>R</td>\n",
       "      <td>561.0</td>\n",
       "      <td>47</td>\n",
       "      <td>2</td>\n",
       "      <td>86</td>\n",
       "      <td>47</td>\n",
       "      <td>0</td>\n",
       "      <td>...</td>\n",
       "      <td>0</td>\n",
       "      <td>0</td>\n",
       "      <td>0</td>\n",
       "      <td>0</td>\n",
       "      <td>Capricorn</td>\n",
       "      <td>1</td>\n",
       "      <td>0</td>\n",
       "      <td>65.0</td>\n",
       "      <td>2.17</td>\n",
       "      <td>0</td>\n",
       "    </tr>\n",
       "    <tr>\n",
       "      <th>3</th>\n",
       "      <td>8095</td>\n",
       "      <td>0</td>\n",
       "      <td>26.0</td>\n",
       "      <td>R</td>\n",
       "      <td>567.0</td>\n",
       "      <td>26</td>\n",
       "      <td>3</td>\n",
       "      <td>38</td>\n",
       "      <td>25</td>\n",
       "      <td>0</td>\n",
       "      <td>...</td>\n",
       "      <td>0</td>\n",
       "      <td>0</td>\n",
       "      <td>0</td>\n",
       "      <td>0</td>\n",
       "      <td>Capricorn</td>\n",
       "      <td>0</td>\n",
       "      <td>0</td>\n",
       "      <td>33.0</td>\n",
       "      <td>1.10</td>\n",
       "      <td>1</td>\n",
       "    </tr>\n",
       "    <tr>\n",
       "      <th>4</th>\n",
       "      <td>61353</td>\n",
       "      <td>1</td>\n",
       "      <td>27.0</td>\n",
       "      <td>na</td>\n",
       "      <td>NaN</td>\n",
       "      <td>0</td>\n",
       "      <td>0</td>\n",
       "      <td>2</td>\n",
       "      <td>0</td>\n",
       "      <td>0</td>\n",
       "      <td>...</td>\n",
       "      <td>0</td>\n",
       "      <td>0</td>\n",
       "      <td>0</td>\n",
       "      <td>0</td>\n",
       "      <td>Aries</td>\n",
       "      <td>1</td>\n",
       "      <td>0</td>\n",
       "      <td>1.0</td>\n",
       "      <td>0.03</td>\n",
       "      <td>0</td>\n",
       "    </tr>\n",
       "  </tbody>\n",
       "</table>\n",
       "<p>5 rows × 31 columns</p>\n",
       "</div>"
      ],
      "text/plain": [
       "    user  churn   age housing  credit_score  deposits  withdrawal  \\\n",
       "0  55409      0  37.0      na           NaN         0           0   \n",
       "1  23547      0  28.0       R         486.0         0           0   \n",
       "2  58313      0  35.0       R         561.0        47           2   \n",
       "3   8095      0  26.0       R         567.0        26           3   \n",
       "4  61353      1  27.0      na           NaN         0           0   \n",
       "\n",
       "   purchases_partners  purchases  cc_taken  ...  waiting_4_loan  \\\n",
       "0                   0          0         0  ...               0   \n",
       "1                   1          0         0  ...               0   \n",
       "2                  86         47         0  ...               0   \n",
       "3                  38         25         0  ...               0   \n",
       "4                   2          0         0  ...               0   \n",
       "\n",
       "   cancelled_loan  received_loan  rejected_loan  zodiac_sign  \\\n",
       "0               0              0              0          Leo   \n",
       "1               0              0              0          Leo   \n",
       "2               0              0              0    Capricorn   \n",
       "3               0              0              0    Capricorn   \n",
       "4               0              0              0        Aries   \n",
       "\n",
       "   left_for_two_month_plus  left_for_one_month  rewards_earned  reward_rate  \\\n",
       "0                        1                   0             NaN         0.00   \n",
       "1                        0                   0            44.0         1.47   \n",
       "2                        1                   0            65.0         2.17   \n",
       "3                        0                   0            33.0         1.10   \n",
       "4                        1                   0             1.0         0.03   \n",
       "\n",
       "   is_referred  \n",
       "0            0  \n",
       "1            1  \n",
       "2            0  \n",
       "3            1  \n",
       "4            0  \n",
       "\n",
       "[5 rows x 31 columns]"
      ]
     },
     "execution_count": 6,
     "metadata": {},
     "output_type": "execute_result"
    }
   ],
   "source": [
    "df1 = df.drop_duplicates().reset_index(drop = True)\n",
    "df1.head()"
   ]
  },
  {
   "cell_type": "code",
   "execution_count": 7,
   "id": "fa65e7ff-fd8b-4af9-82f4-bc43b228213c",
   "metadata": {},
   "outputs": [
    {
     "data": {
      "text/plain": [
       "(26542, 31)"
      ]
     },
     "execution_count": 7,
     "metadata": {},
     "output_type": "execute_result"
    }
   ],
   "source": [
    "df1.shape"
   ]
  },
  {
   "cell_type": "code",
   "execution_count": 8,
   "id": "7e89895e-c275-4051-9097-8cfd7f340225",
   "metadata": {},
   "outputs": [
    {
     "name": "stdout",
     "output_type": "stream",
     "text": [
      "       user  churn   age housing  credit_score  deposits  withdrawal  \\\n",
      "8094    262      0  45.0       R         544.0         0           0   \n",
      "23049   262      0  45.0       R         542.0         0           0   \n",
      "25596   262      0  46.0       R         544.0         0           0   \n",
      "\n",
      "       purchases_partners  purchases  cc_taken  ...  waiting_4_loan  \\\n",
      "8094                  143          0         0  ...               0   \n",
      "23049                 143          0         0  ...               0   \n",
      "25596                 143          0         0  ...               0   \n",
      "\n",
      "       cancelled_loan  received_loan  rejected_loan  zodiac_sign  \\\n",
      "8094                0              0              0        Libra   \n",
      "23049               0              0              0        Libra   \n",
      "25596               0              0              0        Libra   \n",
      "\n",
      "       left_for_two_month_plus  left_for_one_month  rewards_earned  \\\n",
      "8094                         0                   0            54.0   \n",
      "23049                        0                   0            54.0   \n",
      "25596                        0                   0            54.0   \n",
      "\n",
      "       reward_rate  is_referred  \n",
      "8094           1.8            1  \n",
      "23049          1.8            1  \n",
      "25596          1.8            1  \n",
      "\n",
      "[3 rows x 31 columns]\n",
      "       user  churn   age housing  credit_score  deposits  withdrawal  \\\n",
      "21329   327      0  33.0       O         408.0         1           1   \n",
      "21571   327      0  32.0       O         408.0         1           1   \n",
      "23968   327      0  31.0       O         409.0         1           1   \n",
      "\n",
      "       purchases_partners  purchases  cc_taken  ...  waiting_4_loan  \\\n",
      "21329                  25          1         0  ...               0   \n",
      "21571                  25          1         0  ...               0   \n",
      "23968                  25          1         0  ...               0   \n",
      "\n",
      "       cancelled_loan  received_loan  rejected_loan  zodiac_sign  \\\n",
      "21329               0              0              0        Libra   \n",
      "21571               0              0              0        Libra   \n",
      "23968               0              0              0        Libra   \n",
      "\n",
      "       left_for_two_month_plus  left_for_one_month  rewards_earned  \\\n",
      "21329                        0                   0            12.0   \n",
      "21571                        0                   0            12.0   \n",
      "23968                        0                   0            12.0   \n",
      "\n",
      "       reward_rate  is_referred  \n",
      "21329         0.67            0  \n",
      "21571         0.67            0  \n",
      "23968         0.67            0  \n",
      "\n",
      "[3 rows x 31 columns]\n",
      "       user  churn   age housing  credit_score  deposits  withdrawal  \\\n",
      "12864   899      0  45.0      na         572.0         0           0   \n",
      "15903   899      0  46.0      na         570.0         0           0   \n",
      "21113   899      0  45.0      na         571.0         0           0   \n",
      "\n",
      "       purchases_partners  purchases  cc_taken  ...  waiting_4_loan  \\\n",
      "12864                   0          0         0  ...               0   \n",
      "15903                   0          0         0  ...               0   \n",
      "21113                   0          0         0  ...               0   \n",
      "\n",
      "       cancelled_loan  received_loan  rejected_loan  zodiac_sign  \\\n",
      "12864               0              0              0        Libra   \n",
      "15903               0              0              0        Libra   \n",
      "21113               0              0              0        Libra   \n",
      "\n",
      "       left_for_two_month_plus  left_for_one_month  rewards_earned  \\\n",
      "12864                        0                   0            26.0   \n",
      "15903                        0                   0            26.0   \n",
      "21113                        0                   0            26.0   \n",
      "\n",
      "       reward_rate  is_referred  \n",
      "12864         0.87            0  \n",
      "15903         0.87            0  \n",
      "21113         0.87            0  \n",
      "\n",
      "[3 rows x 31 columns]\n",
      "       user  churn   age housing  credit_score  deposits  withdrawal  \\\n",
      "17188  1230      0  20.0       R           NaN         0           0   \n",
      "18771  1230      0  18.0       R           NaN         0           0   \n",
      "20631  1230      0  19.0       R           NaN         0           0   \n",
      "\n",
      "       purchases_partners  purchases  cc_taken  ...  waiting_4_loan  \\\n",
      "17188                  16          0         0  ...               0   \n",
      "18771                  16          0         0  ...               0   \n",
      "20631                  16          0         0  ...               0   \n",
      "\n",
      "       cancelled_loan  received_loan  rejected_loan  zodiac_sign  \\\n",
      "17188               0              0              0       Pisces   \n",
      "18771               0              0              0       Pisces   \n",
      "20631               0              0              0       Pisces   \n",
      "\n",
      "       left_for_two_month_plus  left_for_one_month  rewards_earned  \\\n",
      "17188                        0                   0            55.0   \n",
      "18771                        0                   0            55.0   \n",
      "20631                        0                   0            55.0   \n",
      "\n",
      "       reward_rate  is_referred  \n",
      "17188         1.83            1  \n",
      "18771         1.83            1  \n",
      "20631         1.83            1  \n",
      "\n",
      "[3 rows x 31 columns]\n",
      "       user  churn   age housing  credit_score  deposits  withdrawal  \\\n",
      "9446   1380      0  28.0      na         531.0         0           0   \n",
      "14013  1380      0  26.0      na         532.0         0           0   \n",
      "22270  1380      0  27.0      na         531.0         0           0   \n",
      "\n",
      "       purchases_partners  purchases  cc_taken  ...  waiting_4_loan  \\\n",
      "9446                    7          0         0  ...               0   \n",
      "14013                   7          0         0  ...               0   \n",
      "22270                   7          0         0  ...               0   \n",
      "\n",
      "       cancelled_loan  received_loan  rejected_loan  zodiac_sign  \\\n",
      "9446                0              0              0      Scorpio   \n",
      "14013               0              0              0      Scorpio   \n",
      "22270               0              0              0      Scorpio   \n",
      "\n",
      "       left_for_two_month_plus  left_for_one_month  rewards_earned  \\\n",
      "9446                         0                   0             3.0   \n",
      "14013                        0                   0             3.0   \n",
      "22270                        0                   0             3.0   \n",
      "\n",
      "       reward_rate  is_referred  \n",
      "9446          0.17            1  \n",
      "14013         0.17            1  \n",
      "22270         0.17            1  \n",
      "\n",
      "[3 rows x 31 columns]\n",
      "       user  churn   age housing  credit_score  deposits  withdrawal  \\\n",
      "17525  1418      0  32.0      na         646.0         0           0   \n",
      "19782  1418      0  34.0      na         648.0         0           0   \n",
      "20177  1418      0  33.0      na         648.0         0           0   \n",
      "\n",
      "       purchases_partners  purchases  cc_taken  ...  waiting_4_loan  \\\n",
      "17525                 125          0         0  ...               0   \n",
      "19782                 125          0         0  ...               0   \n",
      "20177                 125          0         0  ...               0   \n",
      "\n",
      "       cancelled_loan  received_loan  rejected_loan  zodiac_sign  \\\n",
      "17525               0              0              0           na   \n",
      "19782               0              0              0           na   \n",
      "20177               0              0              0           na   \n",
      "\n",
      "       left_for_two_month_plus  left_for_one_month  rewards_earned  \\\n",
      "17525                        0                   0            64.0   \n",
      "19782                        0                   0            64.0   \n",
      "20177                        0                   0            64.0   \n",
      "\n",
      "       reward_rate  is_referred  \n",
      "17525         2.13            0  \n",
      "19782         2.13            0  \n",
      "20177         2.13            0  \n",
      "\n",
      "[3 rows x 31 columns]\n",
      "       user  churn   age housing  credit_score  deposits  withdrawal  \\\n",
      "4090   1948      0  31.0       O         514.0         0           0   \n",
      "16836  1948      0  33.0       O         514.0         0           0   \n",
      "23110  1948      0  32.0       O         514.0         0           0   \n",
      "\n",
      "       purchases_partners  purchases  cc_taken  ...  waiting_4_loan  \\\n",
      "4090                   47          0         0  ...               0   \n",
      "16836                  47          0         0  ...               0   \n",
      "23110                  47          0         0  ...               0   \n",
      "\n",
      "       cancelled_loan  received_loan  rejected_loan  zodiac_sign  \\\n",
      "4090                0              0              0        Libra   \n",
      "16836               0              0              0        Libra   \n",
      "23110               0              0              0        Libra   \n",
      "\n",
      "       left_for_two_month_plus  left_for_one_month  rewards_earned  \\\n",
      "4090                         0                   0            29.0   \n",
      "16836                        0                   0            29.0   \n",
      "23110                        0                   0            29.0   \n",
      "\n",
      "       reward_rate  is_referred  \n",
      "4090          0.97            0  \n",
      "16836         0.97            0  \n",
      "23110         0.97            0  \n",
      "\n",
      "[3 rows x 31 columns]\n",
      "       user  churn   age housing  credit_score  deposits  withdrawal  \\\n",
      "193    2601      0  42.0       R         486.0         0           0   \n",
      "14368  2601      0  43.0       R         485.0         0           0   \n",
      "20472  2601      0  43.0       R         486.0         0           0   \n",
      "\n",
      "       purchases_partners  purchases  cc_taken  ...  waiting_4_loan  \\\n",
      "193                    42          0         0  ...               0   \n",
      "14368                  42          0         0  ...               0   \n",
      "20472                  42          0         0  ...               0   \n",
      "\n",
      "       cancelled_loan  received_loan  rejected_loan  zodiac_sign  \\\n",
      "193                 0              0              0     Aquarius   \n",
      "14368               0              0              0     Aquarius   \n",
      "20472               0              0              0     Aquarius   \n",
      "\n",
      "       left_for_two_month_plus  left_for_one_month  rewards_earned  \\\n",
      "193                          1                   0            43.0   \n",
      "14368                        1                   0            43.0   \n",
      "20472                        1                   0            43.0   \n",
      "\n",
      "       reward_rate  is_referred  \n",
      "193           1.43            1  \n",
      "14368         1.43            1  \n",
      "20472         1.43            1  \n",
      "\n",
      "[3 rows x 31 columns]\n",
      "       user  churn   age housing  credit_score  deposits  withdrawal  \\\n",
      "15279  2958      0  22.0      na         568.0         0           0   \n",
      "19796  2958      0  21.0      na         569.0         0           0   \n",
      "21581  2958      0  23.0      na         568.0         0           0   \n",
      "\n",
      "       purchases_partners  purchases  cc_taken  ...  waiting_4_loan  \\\n",
      "15279                  45          0         0  ...               0   \n",
      "19796                  45          0         0  ...               0   \n",
      "21581                  45          0         0  ...               0   \n",
      "\n",
      "       cancelled_loan  received_loan  rejected_loan  zodiac_sign  \\\n",
      "15279               0              0              0       Taurus   \n",
      "19796               0              0              0       Taurus   \n",
      "21581               0              0              0       Taurus   \n",
      "\n",
      "       left_for_two_month_plus  left_for_one_month  rewards_earned  \\\n",
      "15279                        0                   0            35.0   \n",
      "19796                        0                   0            35.0   \n",
      "21581                        0                   0            35.0   \n",
      "\n",
      "       reward_rate  is_referred  \n",
      "15279         1.17            0  \n",
      "19796         1.17            0  \n",
      "21581         1.17            0  \n",
      "\n",
      "[3 rows x 31 columns]\n",
      "       user  churn   age housing  credit_score  deposits  withdrawal  \\\n",
      "24478  3279      0  23.0      na         654.0         0           0   \n",
      "25435  3279      0  22.0      na         656.0         0           0   \n",
      "26448  3279      0  22.0      na         655.0         0           0   \n",
      "\n",
      "       purchases_partners  purchases  cc_taken  ...  waiting_4_loan  \\\n",
      "24478                  50          0         0  ...               0   \n",
      "25435                  50          0         0  ...               0   \n",
      "26448                  50          0         0  ...               0   \n",
      "\n",
      "       cancelled_loan  received_loan  rejected_loan  zodiac_sign  \\\n",
      "24478               0              0              0        Libra   \n",
      "25435               0              0              0        Libra   \n",
      "26448               0              0              0        Libra   \n",
      "\n",
      "       left_for_two_month_plus  left_for_one_month  rewards_earned  \\\n",
      "24478                        0                   0            48.0   \n",
      "25435                        0                   0            48.0   \n",
      "26448                        0                   0            48.0   \n",
      "\n",
      "       reward_rate  is_referred  \n",
      "24478          1.6            0  \n",
      "25435          1.6            0  \n",
      "26448          1.6            0  \n",
      "\n",
      "[3 rows x 31 columns]\n"
     ]
    }
   ],
   "source": [
    "grp = df1.groupby('user')\n",
    "cnt = 0\n",
    "for user,user_df in grp:\n",
    "    if(cnt==10): break\n",
    "    if len(user_df)>2:\n",
    "        cnt+=1\n",
    "        print((user_df))"
   ]
  },
  {
   "cell_type": "code",
   "execution_count": 9,
   "id": "616ce5f8-cc24-43fe-a8b4-702baa295a7d",
   "metadata": {},
   "outputs": [
    {
     "data": {
      "text/html": [
       "<div>\n",
       "<style scoped>\n",
       "    .dataframe tbody tr th:only-of-type {\n",
       "        vertical-align: middle;\n",
       "    }\n",
       "\n",
       "    .dataframe tbody tr th {\n",
       "        vertical-align: top;\n",
       "    }\n",
       "\n",
       "    .dataframe thead th {\n",
       "        text-align: right;\n",
       "    }\n",
       "</style>\n",
       "<table border=\"1\" class=\"dataframe\">\n",
       "  <thead>\n",
       "    <tr style=\"text-align: right;\">\n",
       "      <th></th>\n",
       "      <th>user</th>\n",
       "      <th>churn</th>\n",
       "      <th>age</th>\n",
       "      <th>housing</th>\n",
       "      <th>credit_score</th>\n",
       "      <th>deposits</th>\n",
       "      <th>withdrawal</th>\n",
       "      <th>purchases_partners</th>\n",
       "      <th>purchases</th>\n",
       "      <th>cc_taken</th>\n",
       "      <th>...</th>\n",
       "      <th>waiting_4_loan</th>\n",
       "      <th>cancelled_loan</th>\n",
       "      <th>received_loan</th>\n",
       "      <th>rejected_loan</th>\n",
       "      <th>zodiac_sign</th>\n",
       "      <th>left_for_two_month_plus</th>\n",
       "      <th>left_for_one_month</th>\n",
       "      <th>rewards_earned</th>\n",
       "      <th>reward_rate</th>\n",
       "      <th>is_referred</th>\n",
       "    </tr>\n",
       "  </thead>\n",
       "  <tbody>\n",
       "    <tr>\n",
       "      <th>21329</th>\n",
       "      <td>327</td>\n",
       "      <td>0</td>\n",
       "      <td>33.0</td>\n",
       "      <td>O</td>\n",
       "      <td>408.0</td>\n",
       "      <td>1</td>\n",
       "      <td>1</td>\n",
       "      <td>25</td>\n",
       "      <td>1</td>\n",
       "      <td>0</td>\n",
       "      <td>...</td>\n",
       "      <td>0</td>\n",
       "      <td>0</td>\n",
       "      <td>0</td>\n",
       "      <td>0</td>\n",
       "      <td>Libra</td>\n",
       "      <td>0</td>\n",
       "      <td>0</td>\n",
       "      <td>12.0</td>\n",
       "      <td>0.67</td>\n",
       "      <td>0</td>\n",
       "    </tr>\n",
       "    <tr>\n",
       "      <th>21571</th>\n",
       "      <td>327</td>\n",
       "      <td>0</td>\n",
       "      <td>32.0</td>\n",
       "      <td>O</td>\n",
       "      <td>408.0</td>\n",
       "      <td>1</td>\n",
       "      <td>1</td>\n",
       "      <td>25</td>\n",
       "      <td>1</td>\n",
       "      <td>0</td>\n",
       "      <td>...</td>\n",
       "      <td>0</td>\n",
       "      <td>0</td>\n",
       "      <td>0</td>\n",
       "      <td>0</td>\n",
       "      <td>Libra</td>\n",
       "      <td>0</td>\n",
       "      <td>0</td>\n",
       "      <td>12.0</td>\n",
       "      <td>0.67</td>\n",
       "      <td>0</td>\n",
       "    </tr>\n",
       "    <tr>\n",
       "      <th>23968</th>\n",
       "      <td>327</td>\n",
       "      <td>0</td>\n",
       "      <td>31.0</td>\n",
       "      <td>O</td>\n",
       "      <td>409.0</td>\n",
       "      <td>1</td>\n",
       "      <td>1</td>\n",
       "      <td>25</td>\n",
       "      <td>1</td>\n",
       "      <td>0</td>\n",
       "      <td>...</td>\n",
       "      <td>0</td>\n",
       "      <td>0</td>\n",
       "      <td>0</td>\n",
       "      <td>0</td>\n",
       "      <td>Libra</td>\n",
       "      <td>0</td>\n",
       "      <td>0</td>\n",
       "      <td>12.0</td>\n",
       "      <td>0.67</td>\n",
       "      <td>0</td>\n",
       "    </tr>\n",
       "  </tbody>\n",
       "</table>\n",
       "<p>3 rows × 31 columns</p>\n",
       "</div>"
      ],
      "text/plain": [
       "       user  churn   age housing  credit_score  deposits  withdrawal  \\\n",
       "21329   327      0  33.0       O         408.0         1           1   \n",
       "21571   327      0  32.0       O         408.0         1           1   \n",
       "23968   327      0  31.0       O         409.0         1           1   \n",
       "\n",
       "       purchases_partners  purchases  cc_taken  ...  waiting_4_loan  \\\n",
       "21329                  25          1         0  ...               0   \n",
       "21571                  25          1         0  ...               0   \n",
       "23968                  25          1         0  ...               0   \n",
       "\n",
       "       cancelled_loan  received_loan  rejected_loan  zodiac_sign  \\\n",
       "21329               0              0              0        Libra   \n",
       "21571               0              0              0        Libra   \n",
       "23968               0              0              0        Libra   \n",
       "\n",
       "       left_for_two_month_plus  left_for_one_month  rewards_earned  \\\n",
       "21329                        0                   0            12.0   \n",
       "21571                        0                   0            12.0   \n",
       "23968                        0                   0            12.0   \n",
       "\n",
       "       reward_rate  is_referred  \n",
       "21329         0.67            0  \n",
       "21571         0.67            0  \n",
       "23968         0.67            0  \n",
       "\n",
       "[3 rows x 31 columns]"
      ]
     },
     "execution_count": 9,
     "metadata": {},
     "output_type": "execute_result"
    }
   ],
   "source": [
    "df1[df1['user']==327]"
   ]
  },
  {
   "cell_type": "code",
   "execution_count": 10,
   "id": "fc296806-cf00-42d3-81d9-e999a01a57fa",
   "metadata": {},
   "outputs": [
    {
     "data": {
      "text/html": [
       "<div>\n",
       "<style scoped>\n",
       "    .dataframe tbody tr th:only-of-type {\n",
       "        vertical-align: middle;\n",
       "    }\n",
       "\n",
       "    .dataframe tbody tr th {\n",
       "        vertical-align: top;\n",
       "    }\n",
       "\n",
       "    .dataframe thead th {\n",
       "        text-align: right;\n",
       "    }\n",
       "</style>\n",
       "<table border=\"1\" class=\"dataframe\">\n",
       "  <thead>\n",
       "    <tr style=\"text-align: right;\">\n",
       "      <th></th>\n",
       "      <th>user</th>\n",
       "      <th>churn</th>\n",
       "      <th>age</th>\n",
       "      <th>housing</th>\n",
       "      <th>credit_score</th>\n",
       "      <th>deposits</th>\n",
       "      <th>withdrawal</th>\n",
       "      <th>purchases_partners</th>\n",
       "      <th>purchases</th>\n",
       "      <th>cc_taken</th>\n",
       "      <th>...</th>\n",
       "      <th>waiting_4_loan</th>\n",
       "      <th>cancelled_loan</th>\n",
       "      <th>received_loan</th>\n",
       "      <th>rejected_loan</th>\n",
       "      <th>zodiac_sign</th>\n",
       "      <th>left_for_two_month_plus</th>\n",
       "      <th>left_for_one_month</th>\n",
       "      <th>rewards_earned</th>\n",
       "      <th>reward_rate</th>\n",
       "      <th>is_referred</th>\n",
       "    </tr>\n",
       "  </thead>\n",
       "  <tbody>\n",
       "    <tr>\n",
       "      <th>193</th>\n",
       "      <td>2601</td>\n",
       "      <td>0</td>\n",
       "      <td>42.0</td>\n",
       "      <td>R</td>\n",
       "      <td>486.0</td>\n",
       "      <td>0</td>\n",
       "      <td>0</td>\n",
       "      <td>42</td>\n",
       "      <td>0</td>\n",
       "      <td>0</td>\n",
       "      <td>...</td>\n",
       "      <td>0</td>\n",
       "      <td>0</td>\n",
       "      <td>0</td>\n",
       "      <td>0</td>\n",
       "      <td>Aquarius</td>\n",
       "      <td>1</td>\n",
       "      <td>0</td>\n",
       "      <td>43.0</td>\n",
       "      <td>1.43</td>\n",
       "      <td>1</td>\n",
       "    </tr>\n",
       "    <tr>\n",
       "      <th>14368</th>\n",
       "      <td>2601</td>\n",
       "      <td>0</td>\n",
       "      <td>43.0</td>\n",
       "      <td>R</td>\n",
       "      <td>485.0</td>\n",
       "      <td>0</td>\n",
       "      <td>0</td>\n",
       "      <td>42</td>\n",
       "      <td>0</td>\n",
       "      <td>0</td>\n",
       "      <td>...</td>\n",
       "      <td>0</td>\n",
       "      <td>0</td>\n",
       "      <td>0</td>\n",
       "      <td>0</td>\n",
       "      <td>Aquarius</td>\n",
       "      <td>1</td>\n",
       "      <td>0</td>\n",
       "      <td>43.0</td>\n",
       "      <td>1.43</td>\n",
       "      <td>1</td>\n",
       "    </tr>\n",
       "    <tr>\n",
       "      <th>20472</th>\n",
       "      <td>2601</td>\n",
       "      <td>0</td>\n",
       "      <td>43.0</td>\n",
       "      <td>R</td>\n",
       "      <td>486.0</td>\n",
       "      <td>0</td>\n",
       "      <td>0</td>\n",
       "      <td>42</td>\n",
       "      <td>0</td>\n",
       "      <td>0</td>\n",
       "      <td>...</td>\n",
       "      <td>0</td>\n",
       "      <td>0</td>\n",
       "      <td>0</td>\n",
       "      <td>0</td>\n",
       "      <td>Aquarius</td>\n",
       "      <td>1</td>\n",
       "      <td>0</td>\n",
       "      <td>43.0</td>\n",
       "      <td>1.43</td>\n",
       "      <td>1</td>\n",
       "    </tr>\n",
       "  </tbody>\n",
       "</table>\n",
       "<p>3 rows × 31 columns</p>\n",
       "</div>"
      ],
      "text/plain": [
       "       user  churn   age housing  credit_score  deposits  withdrawal  \\\n",
       "193    2601      0  42.0       R         486.0         0           0   \n",
       "14368  2601      0  43.0       R         485.0         0           0   \n",
       "20472  2601      0  43.0       R         486.0         0           0   \n",
       "\n",
       "       purchases_partners  purchases  cc_taken  ...  waiting_4_loan  \\\n",
       "193                    42          0         0  ...               0   \n",
       "14368                  42          0         0  ...               0   \n",
       "20472                  42          0         0  ...               0   \n",
       "\n",
       "       cancelled_loan  received_loan  rejected_loan  zodiac_sign  \\\n",
       "193                 0              0              0     Aquarius   \n",
       "14368               0              0              0     Aquarius   \n",
       "20472               0              0              0     Aquarius   \n",
       "\n",
       "       left_for_two_month_plus  left_for_one_month  rewards_earned  \\\n",
       "193                          1                   0            43.0   \n",
       "14368                        1                   0            43.0   \n",
       "20472                        1                   0            43.0   \n",
       "\n",
       "       reward_rate  is_referred  \n",
       "193           1.43            1  \n",
       "14368         1.43            1  \n",
       "20472         1.43            1  \n",
       "\n",
       "[3 rows x 31 columns]"
      ]
     },
     "execution_count": 10,
     "metadata": {},
     "output_type": "execute_result"
    }
   ],
   "source": [
    "df1[df1['user']==2601]"
   ]
  },
  {
   "cell_type": "code",
   "execution_count": 11,
   "id": "b740eef4-cfa6-48c3-8ef0-b4f9a9a19233",
   "metadata": {},
   "outputs": [],
   "source": [
    "# so here we can understand that the data is for several years that is why there are repetetions in the users so let us make filter them by choosing the \n",
    "# highrst age and the mminimum credit score for them\n",
    "df2 = pd.DataFrame()\n",
    "for user,user_df in grp:\n",
    "    if len(user_df)==1: df2 = pd.concat([df2,user_df],ignore_index = True)\n",
    "    else:\n",
    "        max_age = user_df['age'].max()\n",
    "        min_credit = user_df['credit_score'].min()\n",
    "        if len(user_df[user_df['age'] == max_age])>1:\n",
    "            df2 = pd.concat([df2,user_df[(user_df['age']==max_age) & (user_df['credit_score']==min_credit)]],ignore_index = True)\n",
    "        else:\n",
    "            df2 = pd.concat([df2,user_df[user_df['age']==max_age]],ignore_index = True)"
   ]
  },
  {
   "cell_type": "code",
   "execution_count": 12,
   "id": "3e7ff2d6-0cfa-4a63-af1a-af3a33b6f0c3",
   "metadata": {},
   "outputs": [
    {
     "data": {
      "text/plain": [
       "(24735, 31)"
      ]
     },
     "execution_count": 12,
     "metadata": {},
     "output_type": "execute_result"
    }
   ],
   "source": [
    "df2.shape"
   ]
  },
  {
   "cell_type": "code",
   "execution_count": 13,
   "id": "8e58ec08-e033-40d8-8cc8-8f9aa1a5b418",
   "metadata": {},
   "outputs": [
    {
     "data": {
      "text/html": [
       "<div>\n",
       "<style scoped>\n",
       "    .dataframe tbody tr th:only-of-type {\n",
       "        vertical-align: middle;\n",
       "    }\n",
       "\n",
       "    .dataframe tbody tr th {\n",
       "        vertical-align: top;\n",
       "    }\n",
       "\n",
       "    .dataframe thead th {\n",
       "        text-align: right;\n",
       "    }\n",
       "</style>\n",
       "<table border=\"1\" class=\"dataframe\">\n",
       "  <thead>\n",
       "    <tr style=\"text-align: right;\">\n",
       "      <th></th>\n",
       "      <th>user</th>\n",
       "      <th>churn</th>\n",
       "      <th>age</th>\n",
       "      <th>housing</th>\n",
       "      <th>credit_score</th>\n",
       "      <th>deposits</th>\n",
       "      <th>withdrawal</th>\n",
       "      <th>purchases_partners</th>\n",
       "      <th>purchases</th>\n",
       "      <th>cc_taken</th>\n",
       "      <th>...</th>\n",
       "      <th>waiting_4_loan</th>\n",
       "      <th>cancelled_loan</th>\n",
       "      <th>received_loan</th>\n",
       "      <th>rejected_loan</th>\n",
       "      <th>zodiac_sign</th>\n",
       "      <th>left_for_two_month_plus</th>\n",
       "      <th>left_for_one_month</th>\n",
       "      <th>rewards_earned</th>\n",
       "      <th>reward_rate</th>\n",
       "      <th>is_referred</th>\n",
       "    </tr>\n",
       "  </thead>\n",
       "  <tbody>\n",
       "    <tr>\n",
       "      <th>0</th>\n",
       "      <td>1</td>\n",
       "      <td>0</td>\n",
       "      <td>21.0</td>\n",
       "      <td>R</td>\n",
       "      <td>577.0</td>\n",
       "      <td>48</td>\n",
       "      <td>4</td>\n",
       "      <td>52</td>\n",
       "      <td>45</td>\n",
       "      <td>0</td>\n",
       "      <td>...</td>\n",
       "      <td>0</td>\n",
       "      <td>0</td>\n",
       "      <td>0</td>\n",
       "      <td>0</td>\n",
       "      <td>Pisces</td>\n",
       "      <td>0</td>\n",
       "      <td>0</td>\n",
       "      <td>56.0</td>\n",
       "      <td>1.87</td>\n",
       "      <td>0</td>\n",
       "    </tr>\n",
       "    <tr>\n",
       "      <th>1</th>\n",
       "      <td>4</td>\n",
       "      <td>0</td>\n",
       "      <td>35.0</td>\n",
       "      <td>R</td>\n",
       "      <td>566.0</td>\n",
       "      <td>15</td>\n",
       "      <td>0</td>\n",
       "      <td>73</td>\n",
       "      <td>15</td>\n",
       "      <td>0</td>\n",
       "      <td>...</td>\n",
       "      <td>0</td>\n",
       "      <td>0</td>\n",
       "      <td>0</td>\n",
       "      <td>0</td>\n",
       "      <td>na</td>\n",
       "      <td>0</td>\n",
       "      <td>0</td>\n",
       "      <td>49.0</td>\n",
       "      <td>1.63</td>\n",
       "      <td>0</td>\n",
       "    </tr>\n",
       "    <tr>\n",
       "      <th>2</th>\n",
       "      <td>8</td>\n",
       "      <td>1</td>\n",
       "      <td>31.0</td>\n",
       "      <td>na</td>\n",
       "      <td>519.0</td>\n",
       "      <td>0</td>\n",
       "      <td>0</td>\n",
       "      <td>0</td>\n",
       "      <td>0</td>\n",
       "      <td>0</td>\n",
       "      <td>...</td>\n",
       "      <td>0</td>\n",
       "      <td>0</td>\n",
       "      <td>0</td>\n",
       "      <td>0</td>\n",
       "      <td>Virgo</td>\n",
       "      <td>0</td>\n",
       "      <td>0</td>\n",
       "      <td>18.0</td>\n",
       "      <td>0.60</td>\n",
       "      <td>1</td>\n",
       "    </tr>\n",
       "    <tr>\n",
       "      <th>3</th>\n",
       "      <td>9</td>\n",
       "      <td>0</td>\n",
       "      <td>26.0</td>\n",
       "      <td>na</td>\n",
       "      <td>NaN</td>\n",
       "      <td>0</td>\n",
       "      <td>0</td>\n",
       "      <td>30</td>\n",
       "      <td>0</td>\n",
       "      <td>0</td>\n",
       "      <td>...</td>\n",
       "      <td>0</td>\n",
       "      <td>0</td>\n",
       "      <td>0</td>\n",
       "      <td>0</td>\n",
       "      <td>Sagittarius</td>\n",
       "      <td>0</td>\n",
       "      <td>0</td>\n",
       "      <td>23.0</td>\n",
       "      <td>0.77</td>\n",
       "      <td>0</td>\n",
       "    </tr>\n",
       "    <tr>\n",
       "      <th>4</th>\n",
       "      <td>10</td>\n",
       "      <td>0</td>\n",
       "      <td>33.0</td>\n",
       "      <td>R</td>\n",
       "      <td>558.0</td>\n",
       "      <td>0</td>\n",
       "      <td>0</td>\n",
       "      <td>76</td>\n",
       "      <td>0</td>\n",
       "      <td>0</td>\n",
       "      <td>...</td>\n",
       "      <td>0</td>\n",
       "      <td>0</td>\n",
       "      <td>0</td>\n",
       "      <td>0</td>\n",
       "      <td>Leo</td>\n",
       "      <td>1</td>\n",
       "      <td>0</td>\n",
       "      <td>45.0</td>\n",
       "      <td>1.50</td>\n",
       "      <td>1</td>\n",
       "    </tr>\n",
       "  </tbody>\n",
       "</table>\n",
       "<p>5 rows × 31 columns</p>\n",
       "</div>"
      ],
      "text/plain": [
       "   user  churn   age housing  credit_score  deposits  withdrawal  \\\n",
       "0     1      0  21.0       R         577.0        48           4   \n",
       "1     4      0  35.0       R         566.0        15           0   \n",
       "2     8      1  31.0      na         519.0         0           0   \n",
       "3     9      0  26.0      na           NaN         0           0   \n",
       "4    10      0  33.0       R         558.0         0           0   \n",
       "\n",
       "   purchases_partners  purchases  cc_taken  ...  waiting_4_loan  \\\n",
       "0                  52         45         0  ...               0   \n",
       "1                  73         15         0  ...               0   \n",
       "2                   0          0         0  ...               0   \n",
       "3                  30          0         0  ...               0   \n",
       "4                  76          0         0  ...               0   \n",
       "\n",
       "   cancelled_loan  received_loan  rejected_loan  zodiac_sign  \\\n",
       "0               0              0              0       Pisces   \n",
       "1               0              0              0           na   \n",
       "2               0              0              0        Virgo   \n",
       "3               0              0              0  Sagittarius   \n",
       "4               0              0              0          Leo   \n",
       "\n",
       "   left_for_two_month_plus  left_for_one_month  rewards_earned  reward_rate  \\\n",
       "0                        0                   0            56.0         1.87   \n",
       "1                        0                   0            49.0         1.63   \n",
       "2                        0                   0            18.0         0.60   \n",
       "3                        0                   0            23.0         0.77   \n",
       "4                        1                   0            45.0         1.50   \n",
       "\n",
       "   is_referred  \n",
       "0            0  \n",
       "1            0  \n",
       "2            1  \n",
       "3            0  \n",
       "4            1  \n",
       "\n",
       "[5 rows x 31 columns]"
      ]
     },
     "execution_count": 13,
     "metadata": {},
     "output_type": "execute_result"
    }
   ],
   "source": [
    "df2.head()"
   ]
  },
  {
   "cell_type": "code",
   "execution_count": 14,
   "id": "bed841f0-e0e0-4e30-8c7c-2346fb961c0a",
   "metadata": {},
   "outputs": [
    {
     "data": {
      "text/plain": [
       "<bound method IndexOpsMixin.nunique of 0            1\n",
       "1            4\n",
       "2            8\n",
       "3            9\n",
       "4           10\n",
       "         ...  \n",
       "24730    69650\n",
       "24731    69651\n",
       "24732    69653\n",
       "24733    69655\n",
       "24734    69658\n",
       "Name: user, Length: 24735, dtype: int64>"
      ]
     },
     "execution_count": 14,
     "metadata": {},
     "output_type": "execute_result"
    }
   ],
   "source": [
    "df2.user.nunique"
   ]
  },
  {
   "cell_type": "code",
   "execution_count": 15,
   "id": "367dbfcc-fabf-4d8b-b5cb-e0435bb92b6f",
   "metadata": {},
   "outputs": [
    {
     "data": {
      "text/plain": [
       "24741"
      ]
     },
     "execution_count": 15,
     "metadata": {},
     "output_type": "execute_result"
    }
   ],
   "source": [
    "len(grp)"
   ]
  },
  {
   "cell_type": "code",
   "execution_count": 16,
   "id": "fe97e322-f318-43d9-a76d-9eea53053699",
   "metadata": {},
   "outputs": [
    {
     "data": {
      "text/html": [
       "<div>\n",
       "<style scoped>\n",
       "    .dataframe tbody tr th:only-of-type {\n",
       "        vertical-align: middle;\n",
       "    }\n",
       "\n",
       "    .dataframe tbody tr th {\n",
       "        vertical-align: top;\n",
       "    }\n",
       "\n",
       "    .dataframe thead th {\n",
       "        text-align: right;\n",
       "    }\n",
       "</style>\n",
       "<table border=\"1\" class=\"dataframe\">\n",
       "  <thead>\n",
       "    <tr style=\"text-align: right;\">\n",
       "      <th></th>\n",
       "      <th>user</th>\n",
       "      <th>churn</th>\n",
       "      <th>age</th>\n",
       "      <th>housing</th>\n",
       "      <th>credit_score</th>\n",
       "      <th>deposits</th>\n",
       "      <th>withdrawal</th>\n",
       "      <th>purchases_partners</th>\n",
       "      <th>purchases</th>\n",
       "      <th>cc_taken</th>\n",
       "      <th>...</th>\n",
       "      <th>waiting_4_loan</th>\n",
       "      <th>cancelled_loan</th>\n",
       "      <th>received_loan</th>\n",
       "      <th>rejected_loan</th>\n",
       "      <th>zodiac_sign</th>\n",
       "      <th>left_for_two_month_plus</th>\n",
       "      <th>left_for_one_month</th>\n",
       "      <th>rewards_earned</th>\n",
       "      <th>reward_rate</th>\n",
       "      <th>is_referred</th>\n",
       "    </tr>\n",
       "  </thead>\n",
       "  <tbody>\n",
       "    <tr>\n",
       "      <th>0</th>\n",
       "      <td>1</td>\n",
       "      <td>0</td>\n",
       "      <td>21.0</td>\n",
       "      <td>R</td>\n",
       "      <td>577.0</td>\n",
       "      <td>48</td>\n",
       "      <td>4</td>\n",
       "      <td>52</td>\n",
       "      <td>45</td>\n",
       "      <td>0</td>\n",
       "      <td>...</td>\n",
       "      <td>0</td>\n",
       "      <td>0</td>\n",
       "      <td>0</td>\n",
       "      <td>0</td>\n",
       "      <td>Pisces</td>\n",
       "      <td>0</td>\n",
       "      <td>0</td>\n",
       "      <td>56.0</td>\n",
       "      <td>1.87</td>\n",
       "      <td>0</td>\n",
       "    </tr>\n",
       "    <tr>\n",
       "      <th>1</th>\n",
       "      <td>4</td>\n",
       "      <td>0</td>\n",
       "      <td>35.0</td>\n",
       "      <td>R</td>\n",
       "      <td>566.0</td>\n",
       "      <td>15</td>\n",
       "      <td>0</td>\n",
       "      <td>73</td>\n",
       "      <td>15</td>\n",
       "      <td>0</td>\n",
       "      <td>...</td>\n",
       "      <td>0</td>\n",
       "      <td>0</td>\n",
       "      <td>0</td>\n",
       "      <td>0</td>\n",
       "      <td>na</td>\n",
       "      <td>0</td>\n",
       "      <td>0</td>\n",
       "      <td>49.0</td>\n",
       "      <td>1.63</td>\n",
       "      <td>0</td>\n",
       "    </tr>\n",
       "    <tr>\n",
       "      <th>2</th>\n",
       "      <td>8</td>\n",
       "      <td>1</td>\n",
       "      <td>31.0</td>\n",
       "      <td>na</td>\n",
       "      <td>519.0</td>\n",
       "      <td>0</td>\n",
       "      <td>0</td>\n",
       "      <td>0</td>\n",
       "      <td>0</td>\n",
       "      <td>0</td>\n",
       "      <td>...</td>\n",
       "      <td>0</td>\n",
       "      <td>0</td>\n",
       "      <td>0</td>\n",
       "      <td>0</td>\n",
       "      <td>Virgo</td>\n",
       "      <td>0</td>\n",
       "      <td>0</td>\n",
       "      <td>18.0</td>\n",
       "      <td>0.60</td>\n",
       "      <td>1</td>\n",
       "    </tr>\n",
       "    <tr>\n",
       "      <th>3</th>\n",
       "      <td>9</td>\n",
       "      <td>0</td>\n",
       "      <td>26.0</td>\n",
       "      <td>na</td>\n",
       "      <td>NaN</td>\n",
       "      <td>0</td>\n",
       "      <td>0</td>\n",
       "      <td>30</td>\n",
       "      <td>0</td>\n",
       "      <td>0</td>\n",
       "      <td>...</td>\n",
       "      <td>0</td>\n",
       "      <td>0</td>\n",
       "      <td>0</td>\n",
       "      <td>0</td>\n",
       "      <td>Sagittarius</td>\n",
       "      <td>0</td>\n",
       "      <td>0</td>\n",
       "      <td>23.0</td>\n",
       "      <td>0.77</td>\n",
       "      <td>0</td>\n",
       "    </tr>\n",
       "    <tr>\n",
       "      <th>4</th>\n",
       "      <td>10</td>\n",
       "      <td>0</td>\n",
       "      <td>33.0</td>\n",
       "      <td>R</td>\n",
       "      <td>558.0</td>\n",
       "      <td>0</td>\n",
       "      <td>0</td>\n",
       "      <td>76</td>\n",
       "      <td>0</td>\n",
       "      <td>0</td>\n",
       "      <td>...</td>\n",
       "      <td>0</td>\n",
       "      <td>0</td>\n",
       "      <td>0</td>\n",
       "      <td>0</td>\n",
       "      <td>Leo</td>\n",
       "      <td>1</td>\n",
       "      <td>0</td>\n",
       "      <td>45.0</td>\n",
       "      <td>1.50</td>\n",
       "      <td>1</td>\n",
       "    </tr>\n",
       "  </tbody>\n",
       "</table>\n",
       "<p>5 rows × 31 columns</p>\n",
       "</div>"
      ],
      "text/plain": [
       "   user  churn   age housing  credit_score  deposits  withdrawal  \\\n",
       "0     1      0  21.0       R         577.0        48           4   \n",
       "1     4      0  35.0       R         566.0        15           0   \n",
       "2     8      1  31.0      na         519.0         0           0   \n",
       "3     9      0  26.0      na           NaN         0           0   \n",
       "4    10      0  33.0       R         558.0         0           0   \n",
       "\n",
       "   purchases_partners  purchases  cc_taken  ...  waiting_4_loan  \\\n",
       "0                  52         45         0  ...               0   \n",
       "1                  73         15         0  ...               0   \n",
       "2                   0          0         0  ...               0   \n",
       "3                  30          0         0  ...               0   \n",
       "4                  76          0         0  ...               0   \n",
       "\n",
       "   cancelled_loan  received_loan  rejected_loan  zodiac_sign  \\\n",
       "0               0              0              0       Pisces   \n",
       "1               0              0              0           na   \n",
       "2               0              0              0        Virgo   \n",
       "3               0              0              0  Sagittarius   \n",
       "4               0              0              0          Leo   \n",
       "\n",
       "   left_for_two_month_plus  left_for_one_month  rewards_earned  reward_rate  \\\n",
       "0                        0                   0            56.0         1.87   \n",
       "1                        0                   0            49.0         1.63   \n",
       "2                        0                   0            18.0         0.60   \n",
       "3                        0                   0            23.0         0.77   \n",
       "4                        1                   0            45.0         1.50   \n",
       "\n",
       "   is_referred  \n",
       "0            0  \n",
       "1            0  \n",
       "2            1  \n",
       "3            0  \n",
       "4            1  \n",
       "\n",
       "[5 rows x 31 columns]"
      ]
     },
     "execution_count": 16,
     "metadata": {},
     "output_type": "execute_result"
    }
   ],
   "source": [
    "# here just beacuase of the credit score basis we have filtered the users so 6 rows of data is not recovered because of this but it won't cause any \n",
    "# impact for the model becuase of very small in nature (6 rows)\n",
    "df2.head()"
   ]
  },
  {
   "cell_type": "code",
   "execution_count": 17,
   "id": "3e3e9051-3b83-4505-9852-c52e8c3fe31e",
   "metadata": {},
   "outputs": [
    {
     "data": {
      "text/plain": [
       "array(['R', 'na', 'O'], dtype=object)"
      ]
     },
     "execution_count": 17,
     "metadata": {},
     "output_type": "execute_result"
    }
   ],
   "source": [
    "df2['housing'].unique()"
   ]
  },
  {
   "cell_type": "code",
   "execution_count": 18,
   "id": "3127a1fb-f6e1-44ef-b40e-d8eccb1a6eb7",
   "metadata": {},
   "outputs": [
    {
     "name": "stdout",
     "output_type": "stream",
     "text": [
      "12765 1958 10012\n"
     ]
    }
   ],
   "source": [
    "print(len(df2[df2['housing']=='na']),\n",
    "len(df2[df2['housing']=='O']),\n",
    "len(df2[df2['housing']=='R']))"
   ]
  },
  {
   "cell_type": "code",
   "execution_count": 19,
   "id": "33c8411b-15a7-49c8-b8ba-c6d201da82e5",
   "metadata": {},
   "outputs": [
    {
     "data": {
      "text/plain": [
       "array([48, 15,  0,  2,  1, 60, 17, 10, 12, 11, 52, 16, 29,  7,  3, 13, 35,\n",
       "        9, 43, 55, 20, 38, 21, 59,  6, 62,  4, 23,  5, 37, 44, 46,  8, 18,\n",
       "       41, 34, 53, 56, 14, 27, 32, 50, 54, 45, 25, 42, 22, 31, 30, 24, 19,\n",
       "       33, 57, 39, 58, 47, 26, 36, 28, 40, 51, 61, 49, 64, 63, 65],\n",
       "      dtype=int64)"
      ]
     },
     "execution_count": 19,
     "metadata": {},
     "output_type": "execute_result"
    }
   ],
   "source": [
    "# so housing is not a good indicator we do not neeed that\n",
    "df2['deposits'].unique()"
   ]
  },
  {
   "cell_type": "code",
   "execution_count": 20,
   "id": "f7d656dd-0718-43cb-92c4-b85db966dacd",
   "metadata": {},
   "outputs": [
    {
     "data": {
      "text/html": [
       "<div>\n",
       "<style scoped>\n",
       "    .dataframe tbody tr th:only-of-type {\n",
       "        vertical-align: middle;\n",
       "    }\n",
       "\n",
       "    .dataframe tbody tr th {\n",
       "        vertical-align: top;\n",
       "    }\n",
       "\n",
       "    .dataframe thead th {\n",
       "        text-align: right;\n",
       "    }\n",
       "</style>\n",
       "<table border=\"1\" class=\"dataframe\">\n",
       "  <thead>\n",
       "    <tr style=\"text-align: right;\">\n",
       "      <th></th>\n",
       "      <th>user</th>\n",
       "      <th>churn</th>\n",
       "      <th>age</th>\n",
       "      <th>credit_score</th>\n",
       "      <th>deposits</th>\n",
       "      <th>withdrawal</th>\n",
       "      <th>purchases_partners</th>\n",
       "      <th>purchases</th>\n",
       "      <th>cc_taken</th>\n",
       "      <th>cc_recommended</th>\n",
       "      <th>...</th>\n",
       "      <th>waiting_4_loan</th>\n",
       "      <th>cancelled_loan</th>\n",
       "      <th>received_loan</th>\n",
       "      <th>rejected_loan</th>\n",
       "      <th>zodiac_sign</th>\n",
       "      <th>left_for_two_month_plus</th>\n",
       "      <th>left_for_one_month</th>\n",
       "      <th>rewards_earned</th>\n",
       "      <th>reward_rate</th>\n",
       "      <th>is_referred</th>\n",
       "    </tr>\n",
       "  </thead>\n",
       "  <tbody>\n",
       "    <tr>\n",
       "      <th>0</th>\n",
       "      <td>1</td>\n",
       "      <td>0</td>\n",
       "      <td>21.0</td>\n",
       "      <td>577.0</td>\n",
       "      <td>48</td>\n",
       "      <td>4</td>\n",
       "      <td>52</td>\n",
       "      <td>45</td>\n",
       "      <td>0</td>\n",
       "      <td>245</td>\n",
       "      <td>...</td>\n",
       "      <td>0</td>\n",
       "      <td>0</td>\n",
       "      <td>0</td>\n",
       "      <td>0</td>\n",
       "      <td>Pisces</td>\n",
       "      <td>0</td>\n",
       "      <td>0</td>\n",
       "      <td>56.0</td>\n",
       "      <td>1.87</td>\n",
       "      <td>0</td>\n",
       "    </tr>\n",
       "    <tr>\n",
       "      <th>1</th>\n",
       "      <td>4</td>\n",
       "      <td>0</td>\n",
       "      <td>35.0</td>\n",
       "      <td>566.0</td>\n",
       "      <td>15</td>\n",
       "      <td>0</td>\n",
       "      <td>73</td>\n",
       "      <td>15</td>\n",
       "      <td>0</td>\n",
       "      <td>199</td>\n",
       "      <td>...</td>\n",
       "      <td>0</td>\n",
       "      <td>0</td>\n",
       "      <td>0</td>\n",
       "      <td>0</td>\n",
       "      <td>na</td>\n",
       "      <td>0</td>\n",
       "      <td>0</td>\n",
       "      <td>49.0</td>\n",
       "      <td>1.63</td>\n",
       "      <td>0</td>\n",
       "    </tr>\n",
       "    <tr>\n",
       "      <th>2</th>\n",
       "      <td>8</td>\n",
       "      <td>1</td>\n",
       "      <td>31.0</td>\n",
       "      <td>519.0</td>\n",
       "      <td>0</td>\n",
       "      <td>0</td>\n",
       "      <td>0</td>\n",
       "      <td>0</td>\n",
       "      <td>0</td>\n",
       "      <td>49</td>\n",
       "      <td>...</td>\n",
       "      <td>0</td>\n",
       "      <td>0</td>\n",
       "      <td>0</td>\n",
       "      <td>0</td>\n",
       "      <td>Virgo</td>\n",
       "      <td>0</td>\n",
       "      <td>0</td>\n",
       "      <td>18.0</td>\n",
       "      <td>0.60</td>\n",
       "      <td>1</td>\n",
       "    </tr>\n",
       "    <tr>\n",
       "      <th>3</th>\n",
       "      <td>9</td>\n",
       "      <td>0</td>\n",
       "      <td>26.0</td>\n",
       "      <td>NaN</td>\n",
       "      <td>0</td>\n",
       "      <td>0</td>\n",
       "      <td>30</td>\n",
       "      <td>0</td>\n",
       "      <td>0</td>\n",
       "      <td>56</td>\n",
       "      <td>...</td>\n",
       "      <td>0</td>\n",
       "      <td>0</td>\n",
       "      <td>0</td>\n",
       "      <td>0</td>\n",
       "      <td>Sagittarius</td>\n",
       "      <td>0</td>\n",
       "      <td>0</td>\n",
       "      <td>23.0</td>\n",
       "      <td>0.77</td>\n",
       "      <td>0</td>\n",
       "    </tr>\n",
       "    <tr>\n",
       "      <th>4</th>\n",
       "      <td>10</td>\n",
       "      <td>0</td>\n",
       "      <td>33.0</td>\n",
       "      <td>558.0</td>\n",
       "      <td>0</td>\n",
       "      <td>0</td>\n",
       "      <td>76</td>\n",
       "      <td>0</td>\n",
       "      <td>0</td>\n",
       "      <td>166</td>\n",
       "      <td>...</td>\n",
       "      <td>0</td>\n",
       "      <td>0</td>\n",
       "      <td>0</td>\n",
       "      <td>0</td>\n",
       "      <td>Leo</td>\n",
       "      <td>1</td>\n",
       "      <td>0</td>\n",
       "      <td>45.0</td>\n",
       "      <td>1.50</td>\n",
       "      <td>1</td>\n",
       "    </tr>\n",
       "  </tbody>\n",
       "</table>\n",
       "<p>5 rows × 30 columns</p>\n",
       "</div>"
      ],
      "text/plain": [
       "   user  churn   age  credit_score  deposits  withdrawal  purchases_partners  \\\n",
       "0     1      0  21.0         577.0        48           4                  52   \n",
       "1     4      0  35.0         566.0        15           0                  73   \n",
       "2     8      1  31.0         519.0         0           0                   0   \n",
       "3     9      0  26.0           NaN         0           0                  30   \n",
       "4    10      0  33.0         558.0         0           0                  76   \n",
       "\n",
       "   purchases  cc_taken  cc_recommended  ...  waiting_4_loan  cancelled_loan  \\\n",
       "0         45         0             245  ...               0               0   \n",
       "1         15         0             199  ...               0               0   \n",
       "2          0         0              49  ...               0               0   \n",
       "3          0         0              56  ...               0               0   \n",
       "4          0         0             166  ...               0               0   \n",
       "\n",
       "   received_loan  rejected_loan  zodiac_sign  left_for_two_month_plus  \\\n",
       "0              0              0       Pisces                        0   \n",
       "1              0              0           na                        0   \n",
       "2              0              0        Virgo                        0   \n",
       "3              0              0  Sagittarius                        0   \n",
       "4              0              0          Leo                        1   \n",
       "\n",
       "   left_for_one_month  rewards_earned  reward_rate is_referred  \n",
       "0                   0            56.0         1.87           0  \n",
       "1                   0            49.0         1.63           0  \n",
       "2                   0            18.0         0.60           1  \n",
       "3                   0            23.0         0.77           0  \n",
       "4                   0            45.0         1.50           1  \n",
       "\n",
       "[5 rows x 30 columns]"
      ]
     },
     "execution_count": 20,
     "metadata": {},
     "output_type": "execute_result"
    }
   ],
   "source": [
    "df3 = df2.drop('housing',axis = 1)\n",
    "df3.head()"
   ]
  },
  {
   "cell_type": "code",
   "execution_count": 21,
   "id": "9a2a10b5-c4e8-4873-a860-1e82318949a0",
   "metadata": {},
   "outputs": [
    {
     "data": {
      "text/plain": [
       "user                       False\n",
       "churn                      False\n",
       "age                         True\n",
       "credit_score                True\n",
       "deposits                   False\n",
       "withdrawal                 False\n",
       "purchases_partners         False\n",
       "purchases                  False\n",
       "cc_taken                   False\n",
       "cc_recommended             False\n",
       "cc_disliked                False\n",
       "cc_liked                   False\n",
       "cc_application_begin       False\n",
       "app_downloaded             False\n",
       "web_user                   False\n",
       "app_web_user               False\n",
       "ios_user                   False\n",
       "android_user               False\n",
       "registered_phones          False\n",
       "payment_type               False\n",
       "waiting_4_loan             False\n",
       "cancelled_loan             False\n",
       "received_loan              False\n",
       "rejected_loan              False\n",
       "zodiac_sign                False\n",
       "left_for_two_month_plus    False\n",
       "left_for_one_month         False\n",
       "rewards_earned              True\n",
       "reward_rate                False\n",
       "is_referred                False\n",
       "dtype: bool"
      ]
     },
     "execution_count": 21,
     "metadata": {},
     "output_type": "execute_result"
    }
   ],
   "source": [
    "df3.isna().any()"
   ]
  },
  {
   "cell_type": "code",
   "execution_count": 22,
   "id": "38861a38-6121-4967-b5f9-af122fab4ddd",
   "metadata": {},
   "outputs": [],
   "source": [
    "# let us fill the age by the mean age and for the credit_score as well\n",
    "mean_cs = df3['credit_score'][df3['credit_score'].isna()==False].mean()\n",
    "mean_age = df3['age'][df3['age'].isna()==False].mean()\n",
    "df3['credit_score'] = df3['credit_score'].fillna(mean_cs)\n",
    "df3['age'] = df3['age'].fillna(mean_age)"
   ]
  },
  {
   "cell_type": "code",
   "execution_count": 23,
   "id": "972451a4-2e2d-403b-a9e6-2d4fc822ad62",
   "metadata": {},
   "outputs": [
    {
     "data": {
      "text/plain": [
       "user                       False\n",
       "churn                      False\n",
       "age                        False\n",
       "credit_score               False\n",
       "deposits                   False\n",
       "withdrawal                 False\n",
       "purchases_partners         False\n",
       "purchases                  False\n",
       "cc_taken                   False\n",
       "cc_recommended             False\n",
       "cc_disliked                False\n",
       "cc_liked                   False\n",
       "cc_application_begin       False\n",
       "app_downloaded             False\n",
       "web_user                   False\n",
       "app_web_user               False\n",
       "ios_user                   False\n",
       "android_user               False\n",
       "registered_phones          False\n",
       "payment_type               False\n",
       "waiting_4_loan             False\n",
       "cancelled_loan             False\n",
       "received_loan              False\n",
       "rejected_loan              False\n",
       "zodiac_sign                False\n",
       "left_for_two_month_plus    False\n",
       "left_for_one_month         False\n",
       "rewards_earned              True\n",
       "reward_rate                False\n",
       "is_referred                False\n",
       "dtype: bool"
      ]
     },
     "execution_count": 23,
     "metadata": {},
     "output_type": "execute_result"
    }
   ],
   "source": [
    "df3.isna().any()"
   ]
  },
  {
   "cell_type": "code",
   "execution_count": 24,
   "id": "a267480a-4168-439c-8f07-441727469cca",
   "metadata": {},
   "outputs": [
    {
     "data": {
      "text/plain": [
       "array([  1.,   2.,   3.,   4.,   5.,   6.,   7.,   8.,   9.,  10.,  11.,\n",
       "        12.,  13.,  14.,  15.,  16.,  17.,  18.,  19.,  20.,  21.,  22.,\n",
       "        23.,  24.,  25.,  26.,  27.,  28.,  29.,  30.,  31.,  32.,  33.,\n",
       "        34.,  35.,  36.,  37.,  38.,  39.,  40.,  41.,  42.,  43.,  44.,\n",
       "        45.,  46.,  47.,  48.,  49.,  50.,  51.,  52.,  53.,  54.,  55.,\n",
       "        56.,  57.,  58.,  59.,  60.,  61.,  62.,  63.,  64.,  65.,  66.,\n",
       "        67.,  68.,  69.,  70.,  71.,  72.,  73.,  74.,  75.,  76.,  77.,\n",
       "        78.,  79.,  80.,  81.,  82.,  83.,  84.,  85.,  86.,  87.,  88.,\n",
       "        90.,  99., 114.,  nan])"
      ]
     },
     "execution_count": 24,
     "metadata": {},
     "output_type": "execute_result"
    }
   ],
   "source": [
    "np.sort(df3['rewards_earned'].unique())\n",
    "# we got NaN here so let us fill it with the 0 beacuse no rewards means 0 right"
   ]
  },
  {
   "cell_type": "code",
   "execution_count": 25,
   "id": "3d54594e-b693-4791-8889-9a839f37ddfe",
   "metadata": {},
   "outputs": [
    {
     "data": {
      "text/html": [
       "<div>\n",
       "<style scoped>\n",
       "    .dataframe tbody tr th:only-of-type {\n",
       "        vertical-align: middle;\n",
       "    }\n",
       "\n",
       "    .dataframe tbody tr th {\n",
       "        vertical-align: top;\n",
       "    }\n",
       "\n",
       "    .dataframe thead th {\n",
       "        text-align: right;\n",
       "    }\n",
       "</style>\n",
       "<table border=\"1\" class=\"dataframe\">\n",
       "  <thead>\n",
       "    <tr style=\"text-align: right;\">\n",
       "      <th></th>\n",
       "      <th>user</th>\n",
       "      <th>churn</th>\n",
       "      <th>age</th>\n",
       "      <th>credit_score</th>\n",
       "      <th>deposits</th>\n",
       "      <th>withdrawal</th>\n",
       "      <th>purchases_partners</th>\n",
       "      <th>purchases</th>\n",
       "      <th>cc_taken</th>\n",
       "      <th>cc_recommended</th>\n",
       "      <th>...</th>\n",
       "      <th>waiting_4_loan</th>\n",
       "      <th>cancelled_loan</th>\n",
       "      <th>received_loan</th>\n",
       "      <th>rejected_loan</th>\n",
       "      <th>zodiac_sign</th>\n",
       "      <th>left_for_two_month_plus</th>\n",
       "      <th>left_for_one_month</th>\n",
       "      <th>rewards_earned</th>\n",
       "      <th>reward_rate</th>\n",
       "      <th>is_referred</th>\n",
       "    </tr>\n",
       "  </thead>\n",
       "  <tbody>\n",
       "    <tr>\n",
       "      <th>0</th>\n",
       "      <td>1</td>\n",
       "      <td>0</td>\n",
       "      <td>21.0</td>\n",
       "      <td>577.000000</td>\n",
       "      <td>48</td>\n",
       "      <td>4</td>\n",
       "      <td>52</td>\n",
       "      <td>45</td>\n",
       "      <td>0</td>\n",
       "      <td>245</td>\n",
       "      <td>...</td>\n",
       "      <td>0</td>\n",
       "      <td>0</td>\n",
       "      <td>0</td>\n",
       "      <td>0</td>\n",
       "      <td>Pisces</td>\n",
       "      <td>0</td>\n",
       "      <td>0</td>\n",
       "      <td>56.0</td>\n",
       "      <td>1.87</td>\n",
       "      <td>0</td>\n",
       "    </tr>\n",
       "    <tr>\n",
       "      <th>1</th>\n",
       "      <td>4</td>\n",
       "      <td>0</td>\n",
       "      <td>35.0</td>\n",
       "      <td>566.000000</td>\n",
       "      <td>15</td>\n",
       "      <td>0</td>\n",
       "      <td>73</td>\n",
       "      <td>15</td>\n",
       "      <td>0</td>\n",
       "      <td>199</td>\n",
       "      <td>...</td>\n",
       "      <td>0</td>\n",
       "      <td>0</td>\n",
       "      <td>0</td>\n",
       "      <td>0</td>\n",
       "      <td>na</td>\n",
       "      <td>0</td>\n",
       "      <td>0</td>\n",
       "      <td>49.0</td>\n",
       "      <td>1.63</td>\n",
       "      <td>0</td>\n",
       "    </tr>\n",
       "    <tr>\n",
       "      <th>2</th>\n",
       "      <td>8</td>\n",
       "      <td>1</td>\n",
       "      <td>31.0</td>\n",
       "      <td>519.000000</td>\n",
       "      <td>0</td>\n",
       "      <td>0</td>\n",
       "      <td>0</td>\n",
       "      <td>0</td>\n",
       "      <td>0</td>\n",
       "      <td>49</td>\n",
       "      <td>...</td>\n",
       "      <td>0</td>\n",
       "      <td>0</td>\n",
       "      <td>0</td>\n",
       "      <td>0</td>\n",
       "      <td>Virgo</td>\n",
       "      <td>0</td>\n",
       "      <td>0</td>\n",
       "      <td>18.0</td>\n",
       "      <td>0.60</td>\n",
       "      <td>1</td>\n",
       "    </tr>\n",
       "    <tr>\n",
       "      <th>3</th>\n",
       "      <td>9</td>\n",
       "      <td>0</td>\n",
       "      <td>26.0</td>\n",
       "      <td>542.505153</td>\n",
       "      <td>0</td>\n",
       "      <td>0</td>\n",
       "      <td>30</td>\n",
       "      <td>0</td>\n",
       "      <td>0</td>\n",
       "      <td>56</td>\n",
       "      <td>...</td>\n",
       "      <td>0</td>\n",
       "      <td>0</td>\n",
       "      <td>0</td>\n",
       "      <td>0</td>\n",
       "      <td>Sagittarius</td>\n",
       "      <td>0</td>\n",
       "      <td>0</td>\n",
       "      <td>23.0</td>\n",
       "      <td>0.77</td>\n",
       "      <td>0</td>\n",
       "    </tr>\n",
       "    <tr>\n",
       "      <th>4</th>\n",
       "      <td>10</td>\n",
       "      <td>0</td>\n",
       "      <td>33.0</td>\n",
       "      <td>558.000000</td>\n",
       "      <td>0</td>\n",
       "      <td>0</td>\n",
       "      <td>76</td>\n",
       "      <td>0</td>\n",
       "      <td>0</td>\n",
       "      <td>166</td>\n",
       "      <td>...</td>\n",
       "      <td>0</td>\n",
       "      <td>0</td>\n",
       "      <td>0</td>\n",
       "      <td>0</td>\n",
       "      <td>Leo</td>\n",
       "      <td>1</td>\n",
       "      <td>0</td>\n",
       "      <td>45.0</td>\n",
       "      <td>1.50</td>\n",
       "      <td>1</td>\n",
       "    </tr>\n",
       "  </tbody>\n",
       "</table>\n",
       "<p>5 rows × 30 columns</p>\n",
       "</div>"
      ],
      "text/plain": [
       "   user  churn   age  credit_score  deposits  withdrawal  purchases_partners  \\\n",
       "0     1      0  21.0    577.000000        48           4                  52   \n",
       "1     4      0  35.0    566.000000        15           0                  73   \n",
       "2     8      1  31.0    519.000000         0           0                   0   \n",
       "3     9      0  26.0    542.505153         0           0                  30   \n",
       "4    10      0  33.0    558.000000         0           0                  76   \n",
       "\n",
       "   purchases  cc_taken  cc_recommended  ...  waiting_4_loan  cancelled_loan  \\\n",
       "0         45         0             245  ...               0               0   \n",
       "1         15         0             199  ...               0               0   \n",
       "2          0         0              49  ...               0               0   \n",
       "3          0         0              56  ...               0               0   \n",
       "4          0         0             166  ...               0               0   \n",
       "\n",
       "   received_loan  rejected_loan  zodiac_sign  left_for_two_month_plus  \\\n",
       "0              0              0       Pisces                        0   \n",
       "1              0              0           na                        0   \n",
       "2              0              0        Virgo                        0   \n",
       "3              0              0  Sagittarius                        0   \n",
       "4              0              0          Leo                        1   \n",
       "\n",
       "   left_for_one_month  rewards_earned  reward_rate is_referred  \n",
       "0                   0            56.0         1.87           0  \n",
       "1                   0            49.0         1.63           0  \n",
       "2                   0            18.0         0.60           1  \n",
       "3                   0            23.0         0.77           0  \n",
       "4                   0            45.0         1.50           1  \n",
       "\n",
       "[5 rows x 30 columns]"
      ]
     },
     "execution_count": 25,
     "metadata": {},
     "output_type": "execute_result"
    }
   ],
   "source": [
    "df3.head()"
   ]
  },
  {
   "cell_type": "code",
   "execution_count": 26,
   "id": "707bbfed-27a0-4763-994a-992ee3a0fad5",
   "metadata": {},
   "outputs": [
    {
     "data": {
      "text/plain": [
       "(25085, 31)"
      ]
     },
     "execution_count": 26,
     "metadata": {},
     "output_type": "execute_result"
    }
   ],
   "source": [
    "df4 = pd.DataFrame()\n",
    "for user,user_df in grp:\n",
    "    if len(user_df)==1: df4 = pd.concat([df4,user_df],ignore_index = True)\n",
    "    else:\n",
    "        max_age = user_df['age'].max()\n",
    "        min_credit = user_df['credit_score'].min()\n",
    "        \n",
    "        df4 = pd.concat([df4,user_df[user_df['age']==max_age]],ignore_index = True)\n",
    "df4.shape\n",
    "# from this we can understand that our assumption in df2 max_age and min/-credit is the better option for the analysis  (25085 and 24735)"
   ]
  },
  {
   "cell_type": "code",
   "execution_count": 27,
   "id": "cd2fc2ee-2816-4e57-8279-28f53e947298",
   "metadata": {},
   "outputs": [
    {
     "data": {
      "text/html": [
       "<div>\n",
       "<style scoped>\n",
       "    .dataframe tbody tr th:only-of-type {\n",
       "        vertical-align: middle;\n",
       "    }\n",
       "\n",
       "    .dataframe tbody tr th {\n",
       "        vertical-align: top;\n",
       "    }\n",
       "\n",
       "    .dataframe thead th {\n",
       "        text-align: right;\n",
       "    }\n",
       "</style>\n",
       "<table border=\"1\" class=\"dataframe\">\n",
       "  <thead>\n",
       "    <tr style=\"text-align: right;\">\n",
       "      <th></th>\n",
       "      <th>user</th>\n",
       "      <th>churn</th>\n",
       "      <th>age</th>\n",
       "      <th>credit_score</th>\n",
       "      <th>deposits</th>\n",
       "      <th>withdrawal</th>\n",
       "      <th>purchases_partners</th>\n",
       "      <th>purchases</th>\n",
       "      <th>cc_taken</th>\n",
       "      <th>cc_recommended</th>\n",
       "      <th>...</th>\n",
       "      <th>waiting_4_loan</th>\n",
       "      <th>cancelled_loan</th>\n",
       "      <th>received_loan</th>\n",
       "      <th>rejected_loan</th>\n",
       "      <th>zodiac_sign</th>\n",
       "      <th>left_for_two_month_plus</th>\n",
       "      <th>left_for_one_month</th>\n",
       "      <th>rewards_earned</th>\n",
       "      <th>reward_rate</th>\n",
       "      <th>is_referred</th>\n",
       "    </tr>\n",
       "  </thead>\n",
       "  <tbody>\n",
       "    <tr>\n",
       "      <th>8116</th>\n",
       "      <td>23540</td>\n",
       "      <td>0</td>\n",
       "      <td>24.0</td>\n",
       "      <td>476.0</td>\n",
       "      <td>0</td>\n",
       "      <td>0</td>\n",
       "      <td>0</td>\n",
       "      <td>0</td>\n",
       "      <td>2</td>\n",
       "      <td>174</td>\n",
       "      <td>...</td>\n",
       "      <td>0</td>\n",
       "      <td>0</td>\n",
       "      <td>0</td>\n",
       "      <td>0</td>\n",
       "      <td>Aries</td>\n",
       "      <td>0</td>\n",
       "      <td>0</td>\n",
       "      <td>51.0</td>\n",
       "      <td>1.70</td>\n",
       "      <td>1</td>\n",
       "    </tr>\n",
       "    <tr>\n",
       "      <th>2675</th>\n",
       "      <td>7508</td>\n",
       "      <td>1</td>\n",
       "      <td>41.0</td>\n",
       "      <td>618.0</td>\n",
       "      <td>0</td>\n",
       "      <td>0</td>\n",
       "      <td>0</td>\n",
       "      <td>0</td>\n",
       "      <td>0</td>\n",
       "      <td>88</td>\n",
       "      <td>...</td>\n",
       "      <td>0</td>\n",
       "      <td>0</td>\n",
       "      <td>0</td>\n",
       "      <td>0</td>\n",
       "      <td>Scorpio</td>\n",
       "      <td>1</td>\n",
       "      <td>1</td>\n",
       "      <td>37.0</td>\n",
       "      <td>1.23</td>\n",
       "      <td>0</td>\n",
       "    </tr>\n",
       "    <tr>\n",
       "      <th>6147</th>\n",
       "      <td>17730</td>\n",
       "      <td>1</td>\n",
       "      <td>31.0</td>\n",
       "      <td>484.0</td>\n",
       "      <td>0</td>\n",
       "      <td>0</td>\n",
       "      <td>21</td>\n",
       "      <td>0</td>\n",
       "      <td>0</td>\n",
       "      <td>58</td>\n",
       "      <td>...</td>\n",
       "      <td>0</td>\n",
       "      <td>0</td>\n",
       "      <td>0</td>\n",
       "      <td>0</td>\n",
       "      <td>Scorpio</td>\n",
       "      <td>1</td>\n",
       "      <td>0</td>\n",
       "      <td>17.0</td>\n",
       "      <td>0.57</td>\n",
       "      <td>1</td>\n",
       "    </tr>\n",
       "    <tr>\n",
       "      <th>2689</th>\n",
       "      <td>7548</td>\n",
       "      <td>0</td>\n",
       "      <td>30.0</td>\n",
       "      <td>564.0</td>\n",
       "      <td>1</td>\n",
       "      <td>1</td>\n",
       "      <td>3</td>\n",
       "      <td>1</td>\n",
       "      <td>0</td>\n",
       "      <td>229</td>\n",
       "      <td>...</td>\n",
       "      <td>0</td>\n",
       "      <td>0</td>\n",
       "      <td>0</td>\n",
       "      <td>0</td>\n",
       "      <td>Virgo</td>\n",
       "      <td>0</td>\n",
       "      <td>0</td>\n",
       "      <td>60.0</td>\n",
       "      <td>2.00</td>\n",
       "      <td>1</td>\n",
       "    </tr>\n",
       "    <tr>\n",
       "      <th>7567</th>\n",
       "      <td>21913</td>\n",
       "      <td>0</td>\n",
       "      <td>21.0</td>\n",
       "      <td>527.0</td>\n",
       "      <td>0</td>\n",
       "      <td>0</td>\n",
       "      <td>46</td>\n",
       "      <td>0</td>\n",
       "      <td>0</td>\n",
       "      <td>77</td>\n",
       "      <td>...</td>\n",
       "      <td>0</td>\n",
       "      <td>0</td>\n",
       "      <td>0</td>\n",
       "      <td>0</td>\n",
       "      <td>Virgo</td>\n",
       "      <td>0</td>\n",
       "      <td>0</td>\n",
       "      <td>32.0</td>\n",
       "      <td>1.07</td>\n",
       "      <td>0</td>\n",
       "    </tr>\n",
       "  </tbody>\n",
       "</table>\n",
       "<p>5 rows × 30 columns</p>\n",
       "</div>"
      ],
      "text/plain": [
       "       user  churn   age  credit_score  deposits  withdrawal  \\\n",
       "8116  23540      0  24.0         476.0         0           0   \n",
       "2675   7508      1  41.0         618.0         0           0   \n",
       "6147  17730      1  31.0         484.0         0           0   \n",
       "2689   7548      0  30.0         564.0         1           1   \n",
       "7567  21913      0  21.0         527.0         0           0   \n",
       "\n",
       "      purchases_partners  purchases  cc_taken  cc_recommended  ...  \\\n",
       "8116                   0          0         2             174  ...   \n",
       "2675                   0          0         0              88  ...   \n",
       "6147                  21          0         0              58  ...   \n",
       "2689                   3          1         0             229  ...   \n",
       "7567                  46          0         0              77  ...   \n",
       "\n",
       "      waiting_4_loan  cancelled_loan  received_loan  rejected_loan  \\\n",
       "8116               0               0              0              0   \n",
       "2675               0               0              0              0   \n",
       "6147               0               0              0              0   \n",
       "2689               0               0              0              0   \n",
       "7567               0               0              0              0   \n",
       "\n",
       "      zodiac_sign  left_for_two_month_plus  left_for_one_month  \\\n",
       "8116        Aries                        0                   0   \n",
       "2675      Scorpio                        1                   1   \n",
       "6147      Scorpio                        1                   0   \n",
       "2689        Virgo                        0                   0   \n",
       "7567        Virgo                        0                   0   \n",
       "\n",
       "      rewards_earned  reward_rate is_referred  \n",
       "8116            51.0         1.70           1  \n",
       "2675            37.0         1.23           0  \n",
       "6147            17.0         0.57           1  \n",
       "2689            60.0         2.00           1  \n",
       "7567            32.0         1.07           0  \n",
       "\n",
       "[5 rows x 30 columns]"
      ]
     },
     "execution_count": 27,
     "metadata": {},
     "output_type": "execute_result"
    }
   ],
   "source": [
    "df3.sample(5)"
   ]
  },
  {
   "cell_type": "code",
   "execution_count": 28,
   "id": "c50ded19-471f-4129-8ec7-caa073717bd3",
   "metadata": {},
   "outputs": [
    {
     "data": {
      "text/html": [
       "<div>\n",
       "<style scoped>\n",
       "    .dataframe tbody tr th:only-of-type {\n",
       "        vertical-align: middle;\n",
       "    }\n",
       "\n",
       "    .dataframe tbody tr th {\n",
       "        vertical-align: top;\n",
       "    }\n",
       "\n",
       "    .dataframe thead th {\n",
       "        text-align: right;\n",
       "    }\n",
       "</style>\n",
       "<table border=\"1\" class=\"dataframe\">\n",
       "  <thead>\n",
       "    <tr style=\"text-align: right;\">\n",
       "      <th></th>\n",
       "      <th>churn</th>\n",
       "      <th>age</th>\n",
       "      <th>credit_score</th>\n",
       "      <th>deposits</th>\n",
       "      <th>withdrawal</th>\n",
       "      <th>purchases_partners</th>\n",
       "      <th>purchases</th>\n",
       "      <th>cc_taken</th>\n",
       "      <th>cc_recommended</th>\n",
       "      <th>cc_disliked</th>\n",
       "      <th>...</th>\n",
       "      <th>registered_phones</th>\n",
       "      <th>waiting_4_loan</th>\n",
       "      <th>cancelled_loan</th>\n",
       "      <th>received_loan</th>\n",
       "      <th>rejected_loan</th>\n",
       "      <th>left_for_two_month_plus</th>\n",
       "      <th>left_for_one_month</th>\n",
       "      <th>rewards_earned</th>\n",
       "      <th>reward_rate</th>\n",
       "      <th>is_referred</th>\n",
       "    </tr>\n",
       "  </thead>\n",
       "  <tbody>\n",
       "    <tr>\n",
       "      <th>0</th>\n",
       "      <td>0</td>\n",
       "      <td>21.0</td>\n",
       "      <td>577.0</td>\n",
       "      <td>48</td>\n",
       "      <td>4</td>\n",
       "      <td>52</td>\n",
       "      <td>45</td>\n",
       "      <td>0</td>\n",
       "      <td>245</td>\n",
       "      <td>0</td>\n",
       "      <td>...</td>\n",
       "      <td>2</td>\n",
       "      <td>0</td>\n",
       "      <td>0</td>\n",
       "      <td>0</td>\n",
       "      <td>0</td>\n",
       "      <td>0</td>\n",
       "      <td>0</td>\n",
       "      <td>56.0</td>\n",
       "      <td>1.87</td>\n",
       "      <td>0</td>\n",
       "    </tr>\n",
       "    <tr>\n",
       "      <th>1</th>\n",
       "      <td>0</td>\n",
       "      <td>35.0</td>\n",
       "      <td>566.0</td>\n",
       "      <td>15</td>\n",
       "      <td>0</td>\n",
       "      <td>73</td>\n",
       "      <td>15</td>\n",
       "      <td>0</td>\n",
       "      <td>199</td>\n",
       "      <td>0</td>\n",
       "      <td>...</td>\n",
       "      <td>0</td>\n",
       "      <td>0</td>\n",
       "      <td>0</td>\n",
       "      <td>0</td>\n",
       "      <td>0</td>\n",
       "      <td>0</td>\n",
       "      <td>0</td>\n",
       "      <td>49.0</td>\n",
       "      <td>1.63</td>\n",
       "      <td>0</td>\n",
       "    </tr>\n",
       "    <tr>\n",
       "      <th>2</th>\n",
       "      <td>1</td>\n",
       "      <td>31.0</td>\n",
       "      <td>519.0</td>\n",
       "      <td>0</td>\n",
       "      <td>0</td>\n",
       "      <td>0</td>\n",
       "      <td>0</td>\n",
       "      <td>0</td>\n",
       "      <td>49</td>\n",
       "      <td>0</td>\n",
       "      <td>...</td>\n",
       "      <td>0</td>\n",
       "      <td>0</td>\n",
       "      <td>0</td>\n",
       "      <td>0</td>\n",
       "      <td>0</td>\n",
       "      <td>0</td>\n",
       "      <td>0</td>\n",
       "      <td>18.0</td>\n",
       "      <td>0.60</td>\n",
       "      <td>1</td>\n",
       "    </tr>\n",
       "  </tbody>\n",
       "</table>\n",
       "<p>3 rows × 27 columns</p>\n",
       "</div>"
      ],
      "text/plain": [
       "   churn   age  credit_score  deposits  withdrawal  purchases_partners  \\\n",
       "0      0  21.0         577.0        48           4                  52   \n",
       "1      0  35.0         566.0        15           0                  73   \n",
       "2      1  31.0         519.0         0           0                   0   \n",
       "\n",
       "   purchases  cc_taken  cc_recommended  cc_disliked  ...  registered_phones  \\\n",
       "0         45         0             245            0  ...                  2   \n",
       "1         15         0             199            0  ...                  0   \n",
       "2          0         0              49            0  ...                  0   \n",
       "\n",
       "   waiting_4_loan  cancelled_loan  received_loan  rejected_loan  \\\n",
       "0               0               0              0              0   \n",
       "1               0               0              0              0   \n",
       "2               0               0              0              0   \n",
       "\n",
       "   left_for_two_month_plus  left_for_one_month  rewards_earned  reward_rate  \\\n",
       "0                        0                   0            56.0         1.87   \n",
       "1                        0                   0            49.0         1.63   \n",
       "2                        0                   0            18.0         0.60   \n",
       "\n",
       "   is_referred  \n",
       "0            0  \n",
       "1            0  \n",
       "2            1  \n",
       "\n",
       "[3 rows x 27 columns]"
      ]
     },
     "execution_count": 28,
     "metadata": {},
     "output_type": "execute_result"
    }
   ],
   "source": [
    "# so now we do not need the user_id and also the zodiac_sign (assuming we do not believe the superstitions) and also the payment type \n",
    "df4 = df3.drop(['user','zodiac_sign','payment_type'],axis = 'columns')\n",
    "df4.head(3)"
   ]
  },
  {
   "cell_type": "code",
   "execution_count": 29,
   "id": "a94f3959-9f34-4dfa-b467-79d3b6d7c8c9",
   "metadata": {},
   "outputs": [
    {
     "data": {
      "text/plain": [
       "Index(['churn', 'age', 'credit_score', 'deposits', 'withdrawal',\n",
       "       'purchases_partners', 'purchases', 'cc_taken', 'cc_recommended',\n",
       "       'cc_disliked', 'cc_liked', 'cc_application_begin', 'app_downloaded',\n",
       "       'web_user', 'app_web_user', 'ios_user', 'android_user',\n",
       "       'registered_phones', 'waiting_4_loan', 'cancelled_loan',\n",
       "       'received_loan', 'rejected_loan', 'left_for_two_month_plus',\n",
       "       'left_for_one_month', 'rewards_earned', 'reward_rate', 'is_referred'],\n",
       "      dtype='object')"
      ]
     },
     "execution_count": 29,
     "metadata": {},
     "output_type": "execute_result"
    }
   ],
   "source": [
    "df4.columns"
   ]
  },
  {
   "cell_type": "code",
   "execution_count": 30,
   "id": "5f35ff1e-633d-46fc-8eb2-03db917f5496",
   "metadata": {},
   "outputs": [
    {
     "data": {
      "text/plain": [
       "(13563,)"
      ]
     },
     "execution_count": 30,
     "metadata": {},
     "output_type": "execute_result"
    }
   ],
   "source": [
    "df4['churn'][df4['churn']==0].shape"
   ]
  },
  {
   "cell_type": "code",
   "execution_count": 31,
   "id": "7027d909-52fa-4198-aac0-d12a34365981",
   "metadata": {},
   "outputs": [],
   "source": [
    "# let us categorise the columns into the 1.basic_info of customer 2.customer behaviour 3.digital_engagement 4.cc_behaviour\n",
    "# 5.Loan information 6.rewards 7. referal 8.activeness"
   ]
  },
  {
   "cell_type": "code",
   "execution_count": 32,
   "id": "a3e60515-9c13-4069-9f83-728aee5e6846",
   "metadata": {},
   "outputs": [
    {
     "data": {
      "text/plain": [
       "Text(0, 0.5, 'Credit score of the customer')"
      ]
     },
     "execution_count": 32,
     "metadata": {},
     "output_type": "execute_result"
    },
    {
     "data": {
      "image/png": "[encoded data removed]",
      "text/plain": [
       "<Figure size 640x480 with 1 Axes>"
      ]
     },
     "metadata": {},
     "output_type": "display_data"
    }
   ],
   "source": [
    "# 1.basic_info consists age and his credit score\n",
    "# for this first let us do scatter plot first between them based on the churn\n",
    "churn_df = df4[df4['churn']==1][['age','credit_score']]\n",
    "nonchurn_df = df4[df4['churn']==0]\n",
    "plt.scatter(churn_df['age'],churn_df['credit_score'],color = 'red')\n",
    "# plt.scatter(nonchurn_df['age'],nonchurn_df['credit_score'],color = 'blue')\n",
    "plt.xlabel('Age of the customer')\n",
    "plt.ylabel('Credit score of the customer')"
   ]
  },
  {
   "cell_type": "code",
   "execution_count": 33,
   "id": "558f7c70-9d6d-443a-8d50-ee74935557a2",
   "metadata": {},
   "outputs": [
    {
     "data": {
      "text/plain": [
       "Text(0, 0.5, 'Credit score of the customer')"
      ]
     },
     "execution_count": 33,
     "metadata": {},
     "output_type": "execute_result"
    },
    {
     "data": {
      "image/png": "[encoded data removed]",
      "text/plain": [
       "<Figure size 640x480 with 1 Axes>"
      ]
     },
     "metadata": {},
     "output_type": "display_data"
    }
   ],
   "source": [
    "plt.scatter(nonchurn_df['age'],nonchurn_df['credit_score'],color = 'blue')\n",
    "plt.xlabel('Age of the customer')\n",
    "plt.ylabel('Credit score of the customer')"
   ]
  },
  {
   "cell_type": "code",
   "execution_count": 34,
   "id": "9fd9141d-ed7b-4e8a-af05-397ce206925d",
   "metadata": {},
   "outputs": [
    {
     "data": {
      "text/plain": [
       "(24731, 27)"
      ]
     },
     "execution_count": 34,
     "metadata": {},
     "output_type": "execute_result"
    }
   ],
   "source": [
    "# we can observe that there is no much difference\n",
    "# we need to know that the credit score must be greater than the 300\n",
    "df5 = df4[(df4['credit_score']>=300) & (df4['credit_score']<=850)]\n",
    "df5.shape"
   ]
  },
  {
   "cell_type": "code",
   "execution_count": 35,
   "id": "6fd2d8ea-ee80-4b07-9c78-2151030e3998",
   "metadata": {},
   "outputs": [
    {
     "data": {
      "text/plain": [
       "(array([[ 351., 5400., 3416., 1363.,  473.,  135.,   28.],\n",
       "        [ 310., 5935., 4376., 1901.,  756.,  239.,   39.]]),\n",
       " array([10., 20., 30., 40., 50., 60., 70., 80.]),\n",
       " <a list of 2 BarContainer objects>)"
      ]
     },
     "execution_count": 35,
     "metadata": {},
     "output_type": "execute_result"
    },
    {
     "data": {
      "image/png": "[encoded data removed]",
      "text/plain": [
       "<Figure size 640x480 with 1 Axes>"
      ]
     },
     "metadata": {},
     "output_type": "display_data"
    }
   ],
   "source": [
    "plt.hist([churn_df['age'],nonchurn_df['age']],bins = [10,20,30,40,50,60,70,80],color = ['red','blue'],rwidth = 0.95)"
   ]
  },
  {
   "cell_type": "code",
   "execution_count": 36,
   "id": "a920bc38-2745-4c05-b751-c9f37e9bde3b",
   "metadata": {},
   "outputs": [
    {
     "data": {
      "text/plain": [
       "(array([[1.2200e+02, 1.7920e+03, 8.3490e+03, 8.3300e+02, 6.6000e+01,\n",
       "         8.0000e+00],\n",
       "        [6.7000e+01, 1.7070e+03, 1.0059e+04, 1.6090e+03, 1.0800e+02,\n",
       "         1.1000e+01]]),\n",
       " array([300., 400., 500., 600., 700., 800., 900.]),\n",
       " <a list of 2 BarContainer objects>)"
      ]
     },
     "execution_count": 36,
     "metadata": {},
     "output_type": "execute_result"
    },
    {
     "data": {
      "image/png": "[encoded data removed]",
      "text/plain": [
       "<Figure size 640x480 with 1 Axes>"
      ]
     },
     "metadata": {},
     "output_type": "display_data"
    }
   ],
   "source": [
    "plt.hist([churn_df['credit_score'],nonchurn_df['credit_score']],bins = [300,400,500,600,700,800,900],color = ['red','blue'],rwidth = 0.95)"
   ]
  },
  {
   "cell_type": "code",
   "execution_count": 37,
   "id": "fabbf5b2-a58b-43d2-a53c-4523cf2d0de8",
   "metadata": {},
   "outputs": [],
   "source": [
    "# so these 2columns are not as good as we thought but credit_score does some impact"
   ]
  },
  {
   "cell_type": "code",
   "execution_count": 38,
   "id": "f4033df0-224f-4722-8d62-276ccbd71f59",
   "metadata": {},
   "outputs": [
    {
     "data": {
      "text/plain": [
       "Text(0, 0.5, 'number of withdrawals')"
      ]
     },
     "execution_count": 38,
     "metadata": {},
     "output_type": "execute_result"
    },
    {
     "data": {
      "image/png": "[encoded data removed]",
      "text/plain": [
       "<Figure size 640x480 with 1 Axes>"
      ]
     },
     "metadata": {},
     "output_type": "display_data"
    }
   ],
   "source": [
    "# we cannot do with the basis of age or credit_score much since the churned and non churned  data is almost showing same behaviour\n",
    "# 2.Customer behaviour \n",
    "churn_df = df5[df5['churn']==1][['deposits','withdrawal','purchases','purchases_partners','age']]\n",
    "nonchurn_df = df5[df5['churn']==0][['deposits','withdrawal','purchases','purchases_partners','age']]\n",
    "plt.scatter(churn_df['deposits'],churn_df['withdrawal'],color = 'red')\n",
    "# plt.scatter(nonchurn_df['deposits'],nonchurn_df['withdrawal'],color = 'blue')\n",
    "plt.xlabel('number of deposits')\n",
    "plt.ylabel('number of withdrawals')"
   ]
  },
  {
   "cell_type": "code",
   "execution_count": 39,
   "id": "f7efb999-6a19-48df-bd9c-bd220dce7dc9",
   "metadata": {},
   "outputs": [
    {
     "data": {
      "text/plain": [
       "Text(0, 0.5, 'number of withdrawals')"
      ]
     },
     "execution_count": 39,
     "metadata": {},
     "output_type": "execute_result"
    },
    {
     "data": {
      "image/png": "[encoded data removed]",
      "text/plain": [
       "<Figure size 640x480 with 1 Axes>"
      ]
     },
     "metadata": {},
     "output_type": "display_data"
    }
   ],
   "source": [
    "plt.scatter(nonchurn_df['deposits'],nonchurn_df['withdrawal'],color = 'blue')\n",
    "plt.xlabel('number of deposits')\n",
    "plt.ylabel('number of withdrawals')"
   ]
  },
  {
   "cell_type": "code",
   "execution_count": 40,
   "id": "6afcc9e7-f290-4191-aab0-1826f1dbd27b",
   "metadata": {},
   "outputs": [
    {
     "data": {
      "text/plain": [
       "(array([[366., 146.,  80.,  47.,  30.,   3.,   0.],\n",
       "        [740., 354., 284., 186., 182.,  28.,   0.]]),\n",
       " array([10., 20., 30., 40., 50., 60., 70., 80.]),\n",
       " <a list of 2 BarContainer objects>)"
      ]
     },
     "execution_count": 40,
     "metadata": {},
     "output_type": "execute_result"
    },
    {
     "data": {
      "image/png": "[encoded data removed]",
      "text/plain": [
       "<Figure size 640x480 with 1 Axes>"
      ]
     },
     "metadata": {},
     "output_type": "display_data"
    }
   ],
   "source": [
    "plt.hist([churn_df['deposits'],nonchurn_df['deposits']],bins = [10,20,30,40,50,60,70,80],color = ['red','blue'],rwidth = 0.95)"
   ]
  },
  {
   "cell_type": "code",
   "execution_count": 41,
   "id": "86050d37-bf7b-4fc2-8a72-ec7f9240eb3a",
   "metadata": {},
   "outputs": [
    {
     "data": {
      "text/plain": [
       "(array([[9.9750e+03, 0.0000e+00, 6.5000e+02, 0.0000e+00, 2.5800e+02,\n",
       "         0.0000e+00, 1.3400e+02, 0.0000e+00, 5.8000e+01, 0.0000e+00,\n",
       "         7.9000e+01, 1.4000e+01, 1.0000e+00, 1.0000e+00, 0.0000e+00,\n",
       "         0.0000e+00],\n",
       "        [1.1143e+04, 0.0000e+00, 1.3410e+03, 0.0000e+00, 5.1000e+02,\n",
       "         0.0000e+00, 2.6100e+02, 0.0000e+00, 1.2600e+02, 0.0000e+00,\n",
       "         1.5500e+02, 1.6000e+01, 6.0000e+00, 1.0000e+00, 2.0000e+00,\n",
       "         0.0000e+00]]),\n",
       " array([ 0. ,  0.5,  1. ,  1.5,  2. ,  2.5,  3. ,  3.5,  4. ,  4.5,  5. ,\n",
       "        10. , 15. , 20. , 25. , 30. , 35. ]),\n",
       " <a list of 2 BarContainer objects>)"
      ]
     },
     "execution_count": 41,
     "metadata": {},
     "output_type": "execute_result"
    },
    {
     "data": {
      "image/png": "[encoded data removed]",
      "text/plain": [
       "<Figure size 640x480 with 1 Axes>"
      ]
     },
     "metadata": {},
     "output_type": "display_data"
    }
   ],
   "source": [
    "plt.hist([churn_df['withdrawal'],nonchurn_df['withdrawal']],bins = [0,0.5,1,1.5,2,2.5,3,3.5,4,4.5,5,10,15,20,25,30,35],color = ['red','blue'],rwidth = 0.95)"
   ]
  },
  {
   "cell_type": "code",
   "execution_count": 42,
   "id": "87a082a6-58a2-46fe-ac43-af81b692580c",
   "metadata": {},
   "outputs": [
    {
     "data": {
      "text/plain": [
       "<matplotlib.collections.PathCollection at 0x1ebcb1ea690>"
      ]
     },
     "execution_count": 42,
     "metadata": {},
     "output_type": "execute_result"
    },
    {
     "data": {
      "image/png": "[encoded data removed]",
      "text/plain": [
       "<Figure size 640x480 with 1 Axes>"
      ]
     },
     "metadata": {},
     "output_type": "display_data"
    }
   ],
   "source": [
    "plt.scatter(churn_df['deposits'],churn_df['withdrawal'],color = 'red')\n",
    "plt.scatter(nonchurn_df['deposits'],nonchurn_df['withdrawal'],color = 'blue')"
   ]
  },
  {
   "cell_type": "code",
   "execution_count": 43,
   "id": "4d00a53e-7f72-4a9b-bd37-be2b2a7b360c",
   "metadata": {},
   "outputs": [],
   "source": [
    "# so who made the higher withdrawals are tend to churn and same as for the deposits"
   ]
  },
  {
   "cell_type": "code",
   "execution_count": 44,
   "id": "a635edee-925f-4415-a8cf-3af3bbd24337",
   "metadata": {},
   "outputs": [
    {
     "data": {
      "text/plain": [
       "(array([[1.0068e+04, 4.4200e+02, 2.2600e+02, 1.3900e+02, 8.1000e+01,\n",
       "         6.1000e+01, 3.4000e+01, 4.5000e+01, 2.6000e+01, 2.1000e+01,\n",
       "         1.9000e+01, 7.0000e+00, 1.0000e+00, 0.0000e+00],\n",
       "        [1.0975e+04, 8.2800e+02, 4.3000e+02, 3.0900e+02, 1.8200e+02,\n",
       "         1.7300e+02, 1.4800e+02, 1.3700e+02, 1.0700e+02, 7.8000e+01,\n",
       "         9.5000e+01, 8.6000e+01, 1.3000e+01, 0.0000e+00]]),\n",
       " array([ 0.,  5., 10., 15., 20., 25., 30., 35., 40., 45., 50., 55., 60.,\n",
       "        65., 70.]),\n",
       " <a list of 2 BarContainer objects>)"
      ]
     },
     "execution_count": 44,
     "metadata": {},
     "output_type": "execute_result"
    },
    {
     "data": {
      "image/png": "[encoded data removed]",
      "text/plain": [
       "<Figure size 640x480 with 1 Axes>"
      ]
     },
     "metadata": {},
     "output_type": "display_data"
    }
   ],
   "source": [
    "# NOTE:- the column purchases_partners is defined as the Customers who make purchases with partner merchants\n",
    "plt.hist([churn_df['purchases'],nonchurn_df['purchases']],bins = [0,5,10,15,20,25,30,35,40,45,50,55,60,65,70],color = ['red','blue'],rwidth = 0.95)"
   ]
  },
  {
   "cell_type": "code",
   "execution_count": 45,
   "id": "67643860-87d9-4fda-9414-eca68ca5ef8e",
   "metadata": {},
   "outputs": [
    {
     "data": {
      "text/plain": [
       "(array([[6779.,  827.,  495.,  424.,  342.,  310.,  271.,  208.,  181.,\n",
       "          204.,  133.,  151.,  112.,  115.],\n",
       "        [4357.,  895.,  692.,  630.,  579.,  546.,  479.,  451.,  442.,\n",
       "          402.,  371.,  378.,  350.,  414.]]),\n",
       " array([ 0.,  5., 10., 15., 20., 25., 30., 35., 40., 45., 50., 55., 60.,\n",
       "        65., 70.]),\n",
       " <a list of 2 BarContainer objects>)"
      ]
     },
     "execution_count": 45,
     "metadata": {},
     "output_type": "execute_result"
    },
    {
     "data": {
      "image/png": "[encoded data removed]",
      "text/plain": [
       "<Figure size 640x480 with 1 Axes>"
      ]
     },
     "metadata": {},
     "output_type": "display_data"
    }
   ],
   "source": [
    "plt.hist([churn_df['purchases_partners'],nonchurn_df['purchases_partners']],bins = [0,5,10,15,20,25,30,35,40,45,50,55,60,65,70],color = ['red','blue'],rwidth = 0.95)"
   ]
  },
  {
   "cell_type": "code",
   "execution_count": 46,
   "id": "de9cadeb-196b-44c1-9508-e456dcbdc4a3",
   "metadata": {},
   "outputs": [],
   "source": [
    "# 3.digital_engagement of customers\n",
    "churn_df = df5[df5['churn']==1][['app_downloaded','web_user', 'app_web_user', 'ios_user', 'android_user','age','registered_phones']]\n",
    "nonchurn_df = df5[df5['churn']==0][['app_downloaded','web_user', 'app_web_user', 'ios_user', 'android_user','age','registered_phones']]"
   ]
  },
  {
   "cell_type": "code",
   "execution_count": 47,
   "id": "c55615b5-0374-4116-8e7f-ac111fdc6c0d",
   "metadata": {},
   "outputs": [
    {
     "data": {
      "text/plain": [
       "(array([[  688., 10482.],\n",
       "        [  502., 13059.]]),\n",
       " array([0. , 0.5, 1. ]),\n",
       " <a list of 2 BarContainer objects>)"
      ]
     },
     "execution_count": 47,
     "metadata": {},
     "output_type": "execute_result"
    },
    {
     "data": {
      "image/png": "[encoded data removed]",
      "text/plain": [
       "<Figure size 640x480 with 1 Axes>"
      ]
     },
     "metadata": {},
     "output_type": "display_data"
    }
   ],
   "source": [
    "plt.hist([churn_df['app_downloaded'],nonchurn_df['app_downloaded']],bins = [0,0.5,1],color = ['red','blue'],rwidth = 0.95)"
   ]
  },
  {
   "cell_type": "code",
   "execution_count": 48,
   "id": "8122c744-c223-444b-803a-0ee75ccd2be1",
   "metadata": {},
   "outputs": [
    {
     "data": {
      "text/plain": [
       "(array([[4172., 6998.],\n",
       "        [5552., 8009.]]),\n",
       " array([0. , 0.5, 1. ]),\n",
       " <a list of 2 BarContainer objects>)"
      ]
     },
     "execution_count": 48,
     "metadata": {},
     "output_type": "execute_result"
    },
    {
     "data": {
      "image/png": "[encoded data removed]",
      "text/plain": [
       "<Figure size 640x480 with 1 Axes>"
      ]
     },
     "metadata": {},
     "output_type": "display_data"
    }
   ],
   "source": [
    "plt.hist([churn_df['web_user'],nonchurn_df['web_user']],bins = [0,0.5,1],color = ['red','blue'],rwidth = 0.95)"
   ]
  },
  {
   "cell_type": "code",
   "execution_count": 49,
   "id": "77f71613-f959-4958-a8cb-7e3c386c5fe0",
   "metadata": {},
   "outputs": [
    {
     "data": {
      "text/plain": [
       "(array([[4822., 6348.],\n",
       "        [6013., 7548.]]),\n",
       " array([0. , 0.5, 1. ]),\n",
       " <a list of 2 BarContainer objects>)"
      ]
     },
     "execution_count": 49,
     "metadata": {},
     "output_type": "execute_result"
    },
    {
     "data": {
      "image/png": "[encoded data removed]",
      "text/plain": [
       "<Figure size 640x480 with 1 Axes>"
      ]
     },
     "metadata": {},
     "output_type": "display_data"
    }
   ],
   "source": [
    "plt.hist([churn_df['app_web_user'],nonchurn_df['app_web_user']],bins = [0,0.5,1],color = ['red','blue'],rwidth = 0.95)"
   ]
  },
  {
   "cell_type": "code",
   "execution_count": 50,
   "id": "b5ce756e-2ff8-4f2d-bc78-46138cc9237f",
   "metadata": {},
   "outputs": [
    {
     "data": {
      "text/html": [
       "<div>\n",
       "<style scoped>\n",
       "    .dataframe tbody tr th:only-of-type {\n",
       "        vertical-align: middle;\n",
       "    }\n",
       "\n",
       "    .dataframe tbody tr th {\n",
       "        vertical-align: top;\n",
       "    }\n",
       "\n",
       "    .dataframe thead th {\n",
       "        text-align: right;\n",
       "    }\n",
       "</style>\n",
       "<table border=\"1\" class=\"dataframe\">\n",
       "  <thead>\n",
       "    <tr style=\"text-align: right;\">\n",
       "      <th></th>\n",
       "      <th>app_downloaded</th>\n",
       "      <th>web_user</th>\n",
       "      <th>app_web_user</th>\n",
       "      <th>ios_user</th>\n",
       "      <th>android_user</th>\n",
       "      <th>age</th>\n",
       "      <th>registered_phones</th>\n",
       "    </tr>\n",
       "  </thead>\n",
       "  <tbody>\n",
       "    <tr>\n",
       "      <th>14503</th>\n",
       "      <td>1</td>\n",
       "      <td>1</td>\n",
       "      <td>1</td>\n",
       "      <td>1</td>\n",
       "      <td>0</td>\n",
       "      <td>25.0</td>\n",
       "      <td>0</td>\n",
       "    </tr>\n",
       "    <tr>\n",
       "      <th>13922</th>\n",
       "      <td>1</td>\n",
       "      <td>0</td>\n",
       "      <td>0</td>\n",
       "      <td>0</td>\n",
       "      <td>1</td>\n",
       "      <td>24.0</td>\n",
       "      <td>0</td>\n",
       "    </tr>\n",
       "    <tr>\n",
       "      <th>10731</th>\n",
       "      <td>1</td>\n",
       "      <td>1</td>\n",
       "      <td>1</td>\n",
       "      <td>1</td>\n",
       "      <td>0</td>\n",
       "      <td>49.0</td>\n",
       "      <td>0</td>\n",
       "    </tr>\n",
       "    <tr>\n",
       "      <th>15107</th>\n",
       "      <td>1</td>\n",
       "      <td>1</td>\n",
       "      <td>1</td>\n",
       "      <td>1</td>\n",
       "      <td>0</td>\n",
       "      <td>28.0</td>\n",
       "      <td>0</td>\n",
       "    </tr>\n",
       "    <tr>\n",
       "      <th>23444</th>\n",
       "      <td>1</td>\n",
       "      <td>0</td>\n",
       "      <td>0</td>\n",
       "      <td>1</td>\n",
       "      <td>0</td>\n",
       "      <td>34.0</td>\n",
       "      <td>0</td>\n",
       "    </tr>\n",
       "  </tbody>\n",
       "</table>\n",
       "</div>"
      ],
      "text/plain": [
       "       app_downloaded  web_user  app_web_user  ios_user  android_user   age  \\\n",
       "14503               1         1             1         1             0  25.0   \n",
       "13922               1         0             0         0             1  24.0   \n",
       "10731               1         1             1         1             0  49.0   \n",
       "15107               1         1             1         1             0  28.0   \n",
       "23444               1         0             0         1             0  34.0   \n",
       "\n",
       "       registered_phones  \n",
       "14503                  0  \n",
       "13922                  0  \n",
       "10731                  0  \n",
       "15107                  0  \n",
       "23444                  0  "
      ]
     },
     "execution_count": 50,
     "metadata": {},
     "output_type": "execute_result"
    }
   ],
   "source": [
    "nonchurn_df.sample(5)"
   ]
  },
  {
   "cell_type": "code",
   "execution_count": 51,
   "id": "aeb92507-b182-4ed9-ba17-d1065d9ac6d8",
   "metadata": {},
   "outputs": [
    {
     "data": {
      "text/plain": [
       "(array([[4851., 6319.],\n",
       "        [5393., 8168.]]),\n",
       " array([0. , 0.5, 1. ]),\n",
       " <a list of 2 BarContainer objects>)"
      ]
     },
     "execution_count": 51,
     "metadata": {},
     "output_type": "execute_result"
    },
    {
     "data": {
      "image/png": "[encoded data removed]",
      "text/plain": [
       "<Figure size 640x480 with 1 Axes>"
      ]
     },
     "metadata": {},
     "output_type": "display_data"
    }
   ],
   "source": [
    "plt.hist([churn_df['android_user'],nonchurn_df['android_user']],bins = [0,0.5,1],color = ['red','blue'],rwidth = 0.95)"
   ]
  },
  {
   "cell_type": "code",
   "execution_count": 52,
   "id": "ad185169-291f-474a-bc30-d9ad1c400b7c",
   "metadata": {},
   "outputs": [
    {
     "data": {
      "text/plain": [
       "(array([[6658., 4512.],\n",
       "        [8302., 5259.]]),\n",
       " array([0. , 0.5, 1. ]),\n",
       " <a list of 2 BarContainer objects>)"
      ]
     },
     "execution_count": 52,
     "metadata": {},
     "output_type": "execute_result"
    },
    {
     "data": {
      "image/png": "[encoded data removed]",
      "text/plain": [
       "<Figure size 640x480 with 1 Axes>"
      ]
     },
     "metadata": {},
     "output_type": "display_data"
    }
   ],
   "source": [
    "plt.hist([churn_df['ios_user'],nonchurn_df['ios_user']],bins = [0,0.5,1],color = ['red','blue'],rwidth = 0.95)\n"
   ]
  },
  {
   "cell_type": "code",
   "execution_count": 53,
   "id": "5e900362-814a-4606-ae82-1d8f22bd1015",
   "metadata": {},
   "outputs": [
    {
     "data": {
      "text/plain": [
       "(array([[ 8941.,     0.,  1770.,   348.,   111.],\n",
       "        [11149.,     0.,  1958.,   345.,   109.]]),\n",
       " array([0., 1., 2., 3., 4., 5.]),\n",
       " <a list of 2 BarContainer objects>)"
      ]
     },
     "execution_count": 53,
     "metadata": {},
     "output_type": "execute_result"
    },
    {
     "data": {
      "image/png": "[encoded data removed]",
      "text/plain": [
       "<Figure size 640x480 with 1 Axes>"
      ]
     },
     "metadata": {},
     "output_type": "display_data"
    }
   ],
   "source": [
    "# android and non ios users are more likely to churn\n",
    "plt.hist([churn_df['registered_phones'],nonchurn_df['registered_phones']],bins = [0,1,2,3,4,5],color = ['red','blue'],rwidth = 0.95)"
   ]
  },
  {
   "cell_type": "code",
   "execution_count": 54,
   "id": "3b2e16c2-0b14-4381-85d6-cbee3f914226",
   "metadata": {},
   "outputs": [
    {
     "data": {
      "text/plain": [
       "5"
      ]
     },
     "execution_count": 54,
     "metadata": {},
     "output_type": "execute_result"
    }
   ],
   "source": [
    "nonchurn_df['registered_phones'].max()"
   ]
  },
  {
   "cell_type": "code",
   "execution_count": 55,
   "id": "73bed41c-f1ad-4a6d-b30d-54a642cd39a2",
   "metadata": {},
   "outputs": [],
   "source": [
    "# usually many customers are having 1 phone "
   ]
  },
  {
   "cell_type": "code",
   "execution_count": 56,
   "id": "e0ae228a-4784-4181-841c-c740cfa929a3",
   "metadata": {},
   "outputs": [],
   "source": [
    "# 4.credit_card behaviour\n",
    "churn_df = df5[df5['churn']==1][['age','cc_taken', 'cc_recommended', 'cc_disliked', 'cc_liked','cc_application_begin']]\n",
    "nonchurn_df = df5[df5['churn']==0][['age','cc_taken', 'cc_recommended', 'cc_disliked', 'cc_liked','cc_application_begin']]"
   ]
  },
  {
   "cell_type": "code",
   "execution_count": 57,
   "id": "b5a11dc3-eb25-413b-b5cb-6ba15e7a3e3e",
   "metadata": {},
   "outputs": [
    {
     "data": {
      "text/plain": [
       "(array([[10423.,   533.],\n",
       "        [13084.,   340.]]),\n",
       " array([0. , 0.5, 1. ]),\n",
       " <a list of 2 BarContainer objects>)"
      ]
     },
     "execution_count": 57,
     "metadata": {},
     "output_type": "execute_result"
    },
    {
     "data": {
      "image/png": "[encoded data removed]",
      "text/plain": [
       "<Figure size 640x480 with 1 Axes>"
      ]
     },
     "metadata": {},
     "output_type": "display_data"
    }
   ],
   "source": [
    "plt.hist([churn_df['cc_taken'],nonchurn_df['cc_taken']],bins = [0,0.5,1],color = ['red','blue'],rwidth = 0.95)"
   ]
  },
  {
   "cell_type": "code",
   "execution_count": 58,
   "id": "a9474be8-407b-4f48-ad13-8627ba12b725",
   "metadata": {},
   "outputs": [
    {
     "data": {
      "text/plain": [
       "(array([[4072., 1823., 1264., 1043.,  764.,  297.,   23.,    0.,    0.,\n",
       "            0.],\n",
       "        [3497., 2022., 1782., 1734., 1663., 1132.,  140.,    0.,    0.,\n",
       "            0.]]),\n",
       " array([  1.,  50., 100., 150., 200., 250., 300., 350., 400., 450., 500.]),\n",
       " <a list of 2 BarContainer objects>)"
      ]
     },
     "execution_count": 58,
     "metadata": {},
     "output_type": "execute_result"
    },
    {
     "data": {
      "image/png": "[encoded data removed]",
      "text/plain": [
       "<Figure size 640x480 with 1 Axes>"
      ]
     },
     "metadata": {},
     "output_type": "display_data"
    }
   ],
   "source": [
    "plt.hist([churn_df['cc_recommended'],nonchurn_df['cc_recommended']],bins = [1,50,100,150,200,250,300,350,400,450,500],color = ['red','blue'],rwidth = 0.95)"
   ]
  },
  {
   "cell_type": "code",
   "execution_count": 59,
   "id": "b6e6d1a8-4c00-4f4f-b164-97d7028402ef",
   "metadata": {},
   "outputs": [
    {
     "data": {
      "text/plain": [
       "27"
      ]
     },
     "execution_count": 59,
     "metadata": {},
     "output_type": "execute_result"
    }
   ],
   "source": [
    "df5['cc_liked'].max()"
   ]
  },
  {
   "cell_type": "code",
   "execution_count": 60,
   "id": "b260cce7-81e3-46c5-8f09-4c7facd1895d",
   "metadata": {},
   "outputs": [
    {
     "data": {
      "text/plain": [
       "(array([[11040.,   104.],\n",
       "        [13478.,    68.]]),\n",
       " array([0. , 0.5, 1. ]),\n",
       " <a list of 2 BarContainer objects>)"
      ]
     },
     "execution_count": 60,
     "metadata": {},
     "output_type": "execute_result"
    },
    {
     "data": {
      "image/png": "[encoded data removed]",
      "text/plain": [
       "<Figure size 640x480 with 1 Axes>"
      ]
     },
     "metadata": {},
     "output_type": "display_data"
    }
   ],
   "source": [
    "# so cc_recommended has some significanc\n",
    "plt.hist([churn_df['cc_liked'],nonchurn_df['cc_liked']],bins = [0,0.5,1],color = ['red','blue'],rwidth = 0.95)"
   ]
  },
  {
   "cell_type": "code",
   "execution_count": 61,
   "id": "aaa88dbc-c161-4ca9-9199-2a0cdec9f874",
   "metadata": {},
   "outputs": [
    {
     "data": {
      "text/plain": [
       "(array([[10855.,   215.],\n",
       "        [13347.,   131.]]),\n",
       " array([0. , 0.5, 1. ]),\n",
       " <a list of 2 BarContainer objects>)"
      ]
     },
     "execution_count": 61,
     "metadata": {},
     "output_type": "execute_result"
    },
    {
     "data": {
      "image/png": "[encoded data removed]",
      "text/plain": [
       "<Figure size 640x480 with 1 Axes>"
      ]
     },
     "metadata": {},
     "output_type": "display_data"
    }
   ],
   "source": [
    "plt.hist([churn_df['cc_disliked'],nonchurn_df['cc_disliked']],bins = [0,0.5,1],color = ['red','blue'],rwidth = 0.95)"
   ]
  },
  {
   "cell_type": "code",
   "execution_count": 62,
   "id": "37009e91-cdd9-4680-9c78-d3b71060dab7",
   "metadata": {},
   "outputs": [
    {
     "data": {
      "text/plain": [
       "(array([[1.0979e+04, 1.6900e+02, 2.1000e+01, 0.0000e+00, 1.0000e+00,\n",
       "         0.0000e+00, 0.0000e+00],\n",
       "        [1.3045e+04, 4.5100e+02, 5.0000e+01, 1.1000e+01, 2.0000e+00,\n",
       "         1.0000e+00, 1.0000e+00]]),\n",
       " array([  0.,  40.,  80., 120., 160., 200., 240., 280.]),\n",
       " <a list of 2 BarContainer objects>)"
      ]
     },
     "execution_count": 62,
     "metadata": {},
     "output_type": "execute_result"
    },
    {
     "data": {
      "image/png": "[encoded data removed]",
      "text/plain": [
       "<Figure size 640x480 with 1 Axes>"
      ]
     },
     "metadata": {},
     "output_type": "display_data"
    }
   ],
   "source": [
    "# liking and disliking is not that effective  \n",
    "plt.hist([churn_df['cc_application_begin'],nonchurn_df['cc_application_begin']],bins = [0,40,80,120,160,200,240,280],color = ['red','blue'],rwidth = 0.95)"
   ]
  },
  {
   "cell_type": "code",
   "execution_count": 63,
   "id": "19930f8e-4e26-42a3-b03f-77fa433a58b3",
   "metadata": {},
   "outputs": [
    {
     "data": {
      "text/plain": [
       "(array([[6.784e+03, 1.862e+03, 1.546e+03, 5.950e+02, 1.920e+02, 1.020e+02,\n",
       "         3.200e+01, 2.500e+01, 1.000e+01, 1.000e+01, 3.000e+00, 5.000e+00,\n",
       "         3.000e+00, 0.000e+00, 0.000e+00],\n",
       "        [6.571e+03, 2.514e+03, 2.539e+03, 9.970e+02, 4.240e+02, 2.500e+02,\n",
       "         1.110e+02, 5.700e+01, 3.300e+01, 2.300e+01, 1.400e+01, 8.000e+00,\n",
       "         5.000e+00, 4.000e+00, 3.000e+00]]),\n",
       " array([  0.,   5.,  10.,  20.,  30.,  40.,  50.,  60.,  70.,  80.,  90.,\n",
       "        100., 110., 120., 130., 140.]),\n",
       " <a list of 2 BarContainer objects>)"
      ]
     },
     "execution_count": 63,
     "metadata": {},
     "output_type": "execute_result"
    },
    {
     "data": {
      "image/png": "[encoded data removed]",
      "text/plain": [
       "<Figure size 640x480 with 1 Axes>"
      ]
     },
     "metadata": {},
     "output_type": "display_data"
    }
   ],
   "source": [
    "plt.hist([churn_df['cc_application_begin'],nonchurn_df['cc_application_begin']],bins = [0,5,10,20,30,40,50,60,70,80,90,100,110,120,130,140],color = ['red','blue'],rwidth = 0.95)"
   ]
  },
  {
   "cell_type": "code",
   "execution_count": 64,
   "id": "ce5f889e-19f3-4488-9ee2-0856344860f9",
   "metadata": {},
   "outputs": [],
   "source": [
    "# here who have not started are going to continue hemce it can make some impact \n",
    "# 5.loan information\n",
    "churn_df = df5[df5['churn']==1][['waiting_4_loan','cancelled_loan','received_loan','rejected_loan']]\n",
    "nonchurn_df = df5[df5['churn']==1][['waiting_4_loan','cancelled_loan','received_loan','rejected_loan']]"
   ]
  },
  {
   "cell_type": "code",
   "execution_count": 65,
   "id": "75215b5b-993a-4dfd-ae7b-fa9e26e6e360",
   "metadata": {},
   "outputs": [
    {
     "data": {
      "text/plain": [
       "(array([[1.1162e+04, 8.0000e+00],\n",
       "        [1.1162e+04, 8.0000e+00]]),\n",
       " array([0. , 0.5, 1. ]),\n",
       " <a list of 2 BarContainer objects>)"
      ]
     },
     "execution_count": 65,
     "metadata": {},
     "output_type": "execute_result"
    },
    {
     "data": {
      "image/png": "[encoded data removed]",
      "text/plain": [
       "<Figure size 640x480 with 1 Axes>"
      ]
     },
     "metadata": {},
     "output_type": "display_data"
    }
   ],
   "source": [
    "plt.hist([churn_df['waiting_4_loan'],nonchurn_df['waiting_4_loan']],bins = [0,0.5,1],color = ['red','blue'],rwidth = 0.95)"
   ]
  },
  {
   "cell_type": "code",
   "execution_count": 66,
   "id": "a5e15d57-ce60-43f5-a636-e7b59f194093",
   "metadata": {},
   "outputs": [
    {
     "data": {
      "text/plain": [
       "(32, 27)"
      ]
     },
     "execution_count": 66,
     "metadata": {},
     "output_type": "execute_result"
    }
   ],
   "source": [
    "df5[df5['waiting_4_loan']==1].shape"
   ]
  },
  {
   "cell_type": "code",
   "execution_count": 67,
   "id": "245d8046-83cf-4a7f-94f6-0fdee2c914f2",
   "metadata": {},
   "outputs": [
    {
     "data": {
      "text/plain": [
       "(array([[10896.,   274.],\n",
       "        [10896.,   274.]]),\n",
       " array([0. , 0.5, 1. ]),\n",
       " <a list of 2 BarContainer objects>)"
      ]
     },
     "execution_count": 67,
     "metadata": {},
     "output_type": "execute_result"
    },
    {
     "data": {
      "image/png": "[encoded data removed]",
      "text/plain": [
       "<Figure size 640x480 with 1 Axes>"
      ]
     },
     "metadata": {},
     "output_type": "display_data"
    }
   ],
   "source": [
    "plt.hist([churn_df['cancelled_loan'],nonchurn_df['cancelled_loan']],bins = [0,0.5,1],color = ['red','blue'],rwidth = 0.95)"
   ]
  },
  {
   "cell_type": "code",
   "execution_count": 68,
   "id": "2f4926a9-3dda-4710-92db-a85f98e7639e",
   "metadata": {},
   "outputs": [
    {
     "data": {
      "text/plain": [
       "(array([[10878.,   292.],\n",
       "        [10878.,   292.]]),\n",
       " array([0. , 0.5, 1. ]),\n",
       " <a list of 2 BarContainer objects>)"
      ]
     },
     "execution_count": 68,
     "metadata": {},
     "output_type": "execute_result"
    },
    {
     "data": {
      "image/png": "[encoded data removed]",
      "text/plain": [
       "<Figure size 640x480 with 1 Axes>"
      ]
     },
     "metadata": {},
     "output_type": "display_data"
    }
   ],
   "source": [
    "plt.hist([churn_df['received_loan'],nonchurn_df['received_loan']],bins = [0,0.5,1],color = ['red','blue'],rwidth = 0.95)"
   ]
  },
  {
   "cell_type": "code",
   "execution_count": 69,
   "id": "06967514-4af2-46af-b584-3d6eae4f7a1e",
   "metadata": {},
   "outputs": [
    {
     "data": {
      "text/plain": [
       "(array([[11063.,   107.],\n",
       "        [11063.,   107.]]),\n",
       " array([0. , 0.5, 1. ]),\n",
       " <a list of 2 BarContainer objects>)"
      ]
     },
     "execution_count": 69,
     "metadata": {},
     "output_type": "execute_result"
    },
    {
     "data": {
      "image/png": "[encoded data removed]",
      "text/plain": [
       "<Figure size 640x480 with 1 Axes>"
      ]
     },
     "metadata": {},
     "output_type": "display_data"
    }
   ],
   "source": [
    "plt.hist([churn_df['rejected_loan'],nonchurn_df['rejected_loan']],bins = [0,0.5,1],color = ['red','blue'],rwidth = 0.95)\n"
   ]
  },
  {
   "cell_type": "code",
   "execution_count": 70,
   "id": "cce84936-c202-4e80-b3fb-25b42feb3d04",
   "metadata": {},
   "outputs": [
    {
     "data": {
      "text/html": [
       "<div>\n",
       "<style scoped>\n",
       "    .dataframe tbody tr th:only-of-type {\n",
       "        vertical-align: middle;\n",
       "    }\n",
       "\n",
       "    .dataframe tbody tr th {\n",
       "        vertical-align: top;\n",
       "    }\n",
       "\n",
       "    .dataframe thead th {\n",
       "        text-align: right;\n",
       "    }\n",
       "</style>\n",
       "<table border=\"1\" class=\"dataframe\">\n",
       "  <thead>\n",
       "    <tr style=\"text-align: right;\">\n",
       "      <th></th>\n",
       "      <th>waiting_4_loan</th>\n",
       "      <th>cancelled_loan</th>\n",
       "      <th>received_loan</th>\n",
       "      <th>rejected_loan</th>\n",
       "    </tr>\n",
       "  </thead>\n",
       "  <tbody>\n",
       "    <tr>\n",
       "      <th>15112</th>\n",
       "      <td>0</td>\n",
       "      <td>0</td>\n",
       "      <td>0</td>\n",
       "      <td>0</td>\n",
       "    </tr>\n",
       "    <tr>\n",
       "      <th>18944</th>\n",
       "      <td>0</td>\n",
       "      <td>0</td>\n",
       "      <td>0</td>\n",
       "      <td>0</td>\n",
       "    </tr>\n",
       "    <tr>\n",
       "      <th>9486</th>\n",
       "      <td>0</td>\n",
       "      <td>0</td>\n",
       "      <td>0</td>\n",
       "      <td>0</td>\n",
       "    </tr>\n",
       "    <tr>\n",
       "      <th>11983</th>\n",
       "      <td>0</td>\n",
       "      <td>0</td>\n",
       "      <td>0</td>\n",
       "      <td>0</td>\n",
       "    </tr>\n",
       "    <tr>\n",
       "      <th>19471</th>\n",
       "      <td>0</td>\n",
       "      <td>0</td>\n",
       "      <td>0</td>\n",
       "      <td>0</td>\n",
       "    </tr>\n",
       "  </tbody>\n",
       "</table>\n",
       "</div>"
      ],
      "text/plain": [
       "       waiting_4_loan  cancelled_loan  received_loan  rejected_loan\n",
       "15112               0               0              0              0\n",
       "18944               0               0              0              0\n",
       "9486                0               0              0              0\n",
       "11983               0               0              0              0\n",
       "19471               0               0              0              0"
      ]
     },
     "execution_count": 70,
     "metadata": {},
     "output_type": "execute_result"
    }
   ],
   "source": [
    "churn_df.sample(5)"
   ]
  },
  {
   "cell_type": "code",
   "execution_count": 71,
   "id": "1f8737a9-4679-4afe-a04e-a64151218f1d",
   "metadata": {},
   "outputs": [],
   "source": [
    "# we do not need the whole loan details as we see here in the 4 plots above\n",
    "df6 = df5.drop(['waiting_4_loan','cancelled_loan','received_loan','rejected_loan'],axis = 'columns')\n",
    "# 6.rewards data (it is basically loyalty of the customer)\n",
    "churn_df = df6[df6['churn']==1][['rewards_earned','reward_rate']]\n",
    "nonchurn_df = df6[df6['churn']==0][['rewards_earned','reward_rate']]"
   ]
  },
  {
   "cell_type": "code",
   "execution_count": 72,
   "id": "20ec3ec0-1a37-4aa8-bba4-e7cba9123759",
   "metadata": {},
   "outputs": [
    {
     "data": {
      "text/plain": [
       "(array([[2.936e+03, 1.827e+03, 1.462e+03, 9.670e+02, 7.720e+02, 7.120e+02,\n",
       "         6.980e+02, 9.700e+01, 1.000e+01, 2.000e+00, 0.000e+00, 0.000e+00],\n",
       "        [2.768e+03, 1.802e+03, 1.370e+03, 1.364e+03, 1.396e+03, 1.537e+03,\n",
       "         1.829e+03, 1.680e+02, 1.700e+01, 0.000e+00, 0.000e+00, 1.000e+00]]),\n",
       " array([  0.,  10.,  20.,  30.,  40.,  50.,  60.,  70.,  80.,  90., 100.,\n",
       "        110., 120.]),\n",
       " <a list of 2 BarContainer objects>)"
      ]
     },
     "execution_count": 72,
     "metadata": {},
     "output_type": "execute_result"
    },
    {
     "data": {
      "image/png": "[encoded data removed]",
      "text/plain": [
       "<Figure size 640x480 with 1 Axes>"
      ]
     },
     "metadata": {},
     "output_type": "display_data"
    }
   ],
   "source": [
    "plt.hist([churn_df['rewards_earned'],nonchurn_df['rewards_earned']],bins = [0,10,20,30,40,50,60,70,80,90,100,110,120],color = ['red','blue'],rwidth = 0.95)"
   ]
  },
  {
   "cell_type": "code",
   "execution_count": 73,
   "id": "9b1616d9-6c27-498a-b575-641bf00aacc3",
   "metadata": {},
   "outputs": [
    {
     "data": {
      "text/plain": [
       "114.0"
      ]
     },
     "execution_count": 73,
     "metadata": {},
     "output_type": "execute_result"
    }
   ],
   "source": [
    "df6['rewards_earned'].max()"
   ]
  },
  {
   "cell_type": "code",
   "execution_count": 74,
   "id": "df705570-c29c-4f54-b1e1-2c394414acff",
   "metadata": {},
   "outputs": [
    {
     "data": {
      "text/plain": [
       "4.0"
      ]
     },
     "execution_count": 74,
     "metadata": {},
     "output_type": "execute_result"
    }
   ],
   "source": [
    "df6['reward_rate'].max()"
   ]
  },
  {
   "cell_type": "code",
   "execution_count": 75,
   "id": "2dc310ab-2186-4fa7-8e9a-b30027824430",
   "metadata": {},
   "outputs": [
    {
     "data": {
      "text/plain": [
       "(array([[5.008e+03, 2.501e+03, 1.569e+03, 1.118e+03, 8.450e+02, 7.200e+01,\n",
       "         1.900e+01, 3.800e+01],\n",
       "        [4.082e+03, 3.060e+03, 2.161e+03, 2.242e+03, 1.907e+03, 1.080e+02,\n",
       "         0.000e+00, 1.000e+00]]),\n",
       " array([0. , 0.5, 1. , 1.5, 2. , 2.5, 3. , 3.5, 4. ]),\n",
       " <a list of 2 BarContainer objects>)"
      ]
     },
     "execution_count": 75,
     "metadata": {},
     "output_type": "execute_result"
    },
    {
     "data": {
      "image/png": "[encoded data removed]",
      "text/plain": [
       "<Figure size 640x480 with 1 Axes>"
      ]
     },
     "metadata": {},
     "output_type": "display_data"
    }
   ],
   "source": [
    "plt.hist([churn_df['reward_rate'],nonchurn_df['reward_rate']],bins = [0,0.5,1,1.5,2,2.5,3,3.5,4],color = ['red','blue'],rwidth = 0.95)"
   ]
  },
  {
   "cell_type": "code",
   "execution_count": 76,
   "id": "ac661221-366e-4f9b-ba50-a8a0a047de92",
   "metadata": {},
   "outputs": [
    {
     "data": {
      "text/html": [
       "<div>\n",
       "<style scoped>\n",
       "    .dataframe tbody tr th:only-of-type {\n",
       "        vertical-align: middle;\n",
       "    }\n",
       "\n",
       "    .dataframe tbody tr th {\n",
       "        vertical-align: top;\n",
       "    }\n",
       "\n",
       "    .dataframe thead th {\n",
       "        text-align: right;\n",
       "    }\n",
       "</style>\n",
       "<table border=\"1\" class=\"dataframe\">\n",
       "  <thead>\n",
       "    <tr style=\"text-align: right;\">\n",
       "      <th></th>\n",
       "      <th>rewards_earned</th>\n",
       "      <th>reward_rate</th>\n",
       "    </tr>\n",
       "  </thead>\n",
       "  <tbody>\n",
       "    <tr>\n",
       "      <th>21651</th>\n",
       "      <td>NaN</td>\n",
       "      <td>0.00</td>\n",
       "    </tr>\n",
       "    <tr>\n",
       "      <th>11385</th>\n",
       "      <td>61.0</td>\n",
       "      <td>2.03</td>\n",
       "    </tr>\n",
       "    <tr>\n",
       "      <th>23334</th>\n",
       "      <td>NaN</td>\n",
       "      <td>0.00</td>\n",
       "    </tr>\n",
       "    <tr>\n",
       "      <th>21561</th>\n",
       "      <td>6.0</td>\n",
       "      <td>0.20</td>\n",
       "    </tr>\n",
       "    <tr>\n",
       "      <th>6431</th>\n",
       "      <td>39.0</td>\n",
       "      <td>1.30</td>\n",
       "    </tr>\n",
       "    <tr>\n",
       "      <th>1168</th>\n",
       "      <td>70.0</td>\n",
       "      <td>2.33</td>\n",
       "    </tr>\n",
       "    <tr>\n",
       "      <th>9057</th>\n",
       "      <td>22.0</td>\n",
       "      <td>0.73</td>\n",
       "    </tr>\n",
       "    <tr>\n",
       "      <th>9802</th>\n",
       "      <td>NaN</td>\n",
       "      <td>0.00</td>\n",
       "    </tr>\n",
       "  </tbody>\n",
       "</table>\n",
       "</div>"
      ],
      "text/plain": [
       "       rewards_earned  reward_rate\n",
       "21651             NaN         0.00\n",
       "11385            61.0         2.03\n",
       "23334             NaN         0.00\n",
       "21561             6.0         0.20\n",
       "6431             39.0         1.30\n",
       "1168             70.0         2.33\n",
       "9057             22.0         0.73\n",
       "9802              NaN         0.00"
      ]
     },
     "execution_count": 76,
     "metadata": {},
     "output_type": "execute_result"
    }
   ],
   "source": [
    "churn_df.sample(8)"
   ]
  },
  {
   "cell_type": "code",
   "execution_count": 77,
   "id": "ee61ce09-b1c4-4e05-b875-605697be0f9f",
   "metadata": {},
   "outputs": [
    {
     "data": {
      "text/html": [
       "<div>\n",
       "<style scoped>\n",
       "    .dataframe tbody tr th:only-of-type {\n",
       "        vertical-align: middle;\n",
       "    }\n",
       "\n",
       "    .dataframe tbody tr th {\n",
       "        vertical-align: top;\n",
       "    }\n",
       "\n",
       "    .dataframe thead th {\n",
       "        text-align: right;\n",
       "    }\n",
       "</style>\n",
       "<table border=\"1\" class=\"dataframe\">\n",
       "  <thead>\n",
       "    <tr style=\"text-align: right;\">\n",
       "      <th></th>\n",
       "      <th>rewards_earned</th>\n",
       "      <th>reward_rate</th>\n",
       "    </tr>\n",
       "  </thead>\n",
       "  <tbody>\n",
       "    <tr>\n",
       "      <th>4660</th>\n",
       "      <td>45.0</td>\n",
       "      <td>1.50</td>\n",
       "    </tr>\n",
       "    <tr>\n",
       "      <th>23563</th>\n",
       "      <td>NaN</td>\n",
       "      <td>0.00</td>\n",
       "    </tr>\n",
       "    <tr>\n",
       "      <th>19396</th>\n",
       "      <td>5.0</td>\n",
       "      <td>0.83</td>\n",
       "    </tr>\n",
       "    <tr>\n",
       "      <th>24324</th>\n",
       "      <td>52.0</td>\n",
       "      <td>1.73</td>\n",
       "    </tr>\n",
       "    <tr>\n",
       "      <th>1762</th>\n",
       "      <td>79.0</td>\n",
       "      <td>2.63</td>\n",
       "    </tr>\n",
       "    <tr>\n",
       "      <th>19882</th>\n",
       "      <td>2.0</td>\n",
       "      <td>0.07</td>\n",
       "    </tr>\n",
       "    <tr>\n",
       "      <th>6628</th>\n",
       "      <td>70.0</td>\n",
       "      <td>2.33</td>\n",
       "    </tr>\n",
       "    <tr>\n",
       "      <th>2042</th>\n",
       "      <td>16.0</td>\n",
       "      <td>0.53</td>\n",
       "    </tr>\n",
       "  </tbody>\n",
       "</table>\n",
       "</div>"
      ],
      "text/plain": [
       "       rewards_earned  reward_rate\n",
       "4660             45.0         1.50\n",
       "23563             NaN         0.00\n",
       "19396             5.0         0.83\n",
       "24324            52.0         1.73\n",
       "1762             79.0         2.63\n",
       "19882             2.0         0.07\n",
       "6628             70.0         2.33\n",
       "2042             16.0         0.53"
      ]
     },
     "execution_count": 77,
     "metadata": {},
     "output_type": "execute_result"
    }
   ],
   "source": [
    "nonchurn_df.sample(8)"
   ]
  },
  {
   "cell_type": "code",
   "execution_count": 78,
   "id": "4d46bc50-98ec-46a0-8f01-d8381ead7845",
   "metadata": {},
   "outputs": [
    {
     "data": {
      "text/plain": [
       "(array([[8132., 3038.],\n",
       "        [8801., 4760.]]),\n",
       " array([0. , 0.5, 1. ]),\n",
       " <a list of 2 BarContainer objects>)"
      ]
     },
     "execution_count": 78,
     "metadata": {},
     "output_type": "execute_result"
    },
    {
     "data": {
      "image/png": "[encoded data removed]",
      "text/plain": [
       "<Figure size 640x480 with 1 Axes>"
      ]
     },
     "metadata": {},
     "output_type": "display_data"
    }
   ],
   "source": [
    "# 7.whether he is a refered customer or not\n",
    "churn_df = df6[df6['churn']==1]['is_referred']\n",
    "nonchurn_df = df6[df6['churn']==0]['is_referred']\n",
    "plt.hist([churn_df,nonchurn_df],bins = [0,0.5,1],color = ['red','blue'],rwidth = 0.95)"
   ]
  },
  {
   "cell_type": "code",
   "execution_count": 79,
   "id": "3919d766-450d-44bb-a2b1-53e4f44aac1e",
   "metadata": {},
   "outputs": [],
   "source": [
    "# based on activity over a period\n",
    "churn_df = df6[df6['churn']==1][['left_for_one_month','left_for_two_month_plus']]\n",
    "nonchurn_df = df6[df6['churn']==0][['left_for_one_month','left_for_two_month_plus']]"
   ]
  },
  {
   "cell_type": "code",
   "execution_count": 80,
   "id": "cd6a2ddc-0c6f-4bbe-a0b3-84caf83b7b74",
   "metadata": {},
   "outputs": [
    {
     "data": {
      "text/plain": [
       "(array([[10904.,   266.],\n",
       "        [13363.,   198.]]),\n",
       " array([0. , 0.5, 1. ]),\n",
       " <a list of 2 BarContainer objects>)"
      ]
     },
     "execution_count": 80,
     "metadata": {},
     "output_type": "execute_result"
    },
    {
     "data": {
      "image/png": "[encoded data removed]",
      "text/plain": [
       "<Figure size 640x480 with 1 Axes>"
      ]
     },
     "metadata": {},
     "output_type": "display_data"
    }
   ],
   "source": [
    "plt.hist([churn_df['left_for_one_month'],nonchurn_df['left_for_one_month']],bins = [0,0.5,1],color = ['red','blue'],rwidth = 0.95)"
   ]
  },
  {
   "cell_type": "code",
   "execution_count": 81,
   "id": "2acdd8a7-d2ee-41f7-bb6d-74fe8ac83b6b",
   "metadata": {},
   "outputs": [
    {
     "data": {
      "text/plain": [
       "(array([[ 9206.,  1964.],\n",
       "        [11246.,  2315.]]),\n",
       " array([0. , 0.5, 1. ]),\n",
       " <a list of 2 BarContainer objects>)"
      ]
     },
     "execution_count": 81,
     "metadata": {},
     "output_type": "execute_result"
    },
    {
     "data": {
      "image/png": "[encoded data removed]",
      "text/plain": [
       "<Figure size 640x480 with 1 Axes>"
      ]
     },
     "metadata": {},
     "output_type": "display_data"
    }
   ],
   "source": [
    "plt.hist([churn_df['left_for_two_month_plus'],nonchurn_df['left_for_two_month_plus']],bins = [0,0.5,1],color = ['red','blue'],rwidth = 0.95)\n"
   ]
  },
  {
   "cell_type": "code",
   "execution_count": 82,
   "id": "059ab6f6-9d80-4834-8bb6-e2144c8cf751",
   "metadata": {},
   "outputs": [
    {
     "data": {
      "text/plain": [
       "churn                        int64\n",
       "age                        float64\n",
       "credit_score               float64\n",
       "deposits                     int64\n",
       "withdrawal                   int64\n",
       "purchases_partners           int64\n",
       "purchases                    int64\n",
       "cc_taken                     int64\n",
       "cc_recommended               int64\n",
       "cc_disliked                  int64\n",
       "cc_liked                     int64\n",
       "cc_application_begin         int64\n",
       "app_downloaded               int64\n",
       "web_user                     int64\n",
       "app_web_user                 int64\n",
       "ios_user                     int64\n",
       "android_user                 int64\n",
       "registered_phones            int64\n",
       "left_for_two_month_plus      int64\n",
       "left_for_one_month           int64\n",
       "rewards_earned             float64\n",
       "reward_rate                float64\n",
       "is_referred                  int64\n",
       "dtype: object"
      ]
     },
     "execution_count": 82,
     "metadata": {},
     "output_type": "execute_result"
    }
   ],
   "source": [
    "df6.dtypes"
   ]
  },
  {
   "cell_type": "code",
   "execution_count": 83,
   "id": "a4a468b5-919c-466d-8059-d9cfed963864",
   "metadata": {},
   "outputs": [],
   "source": [
    "# here evry column has contributed nearly in a similar pattern and there are some  columns with different such as at the begining churn is high and later churn is less when \n",
    "#  compared to non churn customers\n",
    "# so now this dataset is polished and ready to prepare the model"
   ]
  },
  {
   "cell_type": "code",
   "execution_count": 84,
   "id": "bd8431c9-9061-4df2-99b3-d4f52f36e2db",
   "metadata": {},
   "outputs": [
    {
     "data": {
      "text/plain": [
       "churn                      False\n",
       "age                        False\n",
       "credit_score               False\n",
       "deposits                   False\n",
       "withdrawal                 False\n",
       "purchases_partners         False\n",
       "purchases                  False\n",
       "cc_taken                   False\n",
       "cc_recommended             False\n",
       "cc_disliked                False\n",
       "cc_liked                   False\n",
       "cc_application_begin       False\n",
       "app_downloaded             False\n",
       "web_user                   False\n",
       "app_web_user               False\n",
       "ios_user                   False\n",
       "android_user               False\n",
       "registered_phones          False\n",
       "left_for_two_month_plus    False\n",
       "left_for_one_month         False\n",
       "rewards_earned              True\n",
       "reward_rate                False\n",
       "is_referred                False\n",
       "dtype: bool"
      ]
     },
     "execution_count": 84,
     "metadata": {},
     "output_type": "execute_result"
    }
   ],
   "source": [
    "df6.isna().any()"
   ]
  },
  {
   "cell_type": "code",
   "execution_count": 85,
   "id": "938ce299-dd39-4af8-8763-d7d4dc16d9f0",
   "metadata": {},
   "outputs": [
    {
     "data": {
      "text/plain": [
       "False"
      ]
     },
     "execution_count": 85,
     "metadata": {},
     "output_type": "execute_result"
    }
   ],
   "source": [
    "df6['rewards_earned'] = df6['rewards_earned'].fillna(df6['rewards_earned'].mean())\n",
    "df6['rewards_earned'].isna().any()"
   ]
  },
  {
   "cell_type": "code",
   "execution_count": 86,
   "id": "1084a7c0-2120-4cd3-8acb-22252a9d2e42",
   "metadata": {},
   "outputs": [],
   "source": [
    "x = df6.drop('churn',axis = 1)\n",
    "y = df6['churn']\n",
    "x_train,x_test,y_train,y_test = train_test_split(x,y,test_size = 0.4,random_state = 42)"
   ]
  },
  {
   "cell_type": "code",
   "execution_count": 87,
   "id": "0b3513d3-05bf-4e40-8dff-b05eba300061",
   "metadata": {},
   "outputs": [
    {
     "data": {
      "text/plain": [
       "0.6473263923986657"
      ]
     },
     "execution_count": 87,
     "metadata": {},
     "output_type": "execute_result"
    }
   ],
   "source": [
    "from sklearn.linear_model import LogisticRegression\n",
    "model1 = LogisticRegression(max_iter = 6000,C = 0.01)\n",
    "model1.fit(x_train,y_train)\n",
    "model1.score(x_test,y_test)"
   ]
  },
  {
   "cell_type": "code",
   "execution_count": 88,
   "id": "2b3ace04-451e-4873-8a7b-440eb3c0b183",
   "metadata": {},
   "outputs": [
    {
     "data": {
      "text/plain": [
       "0.6993834024057415"
      ]
     },
     "execution_count": 88,
     "metadata": {},
     "output_type": "execute_result"
    }
   ],
   "source": [
    "from sklearn.ensemble import RandomForestClassifier\n",
    "model2 = RandomForestClassifier(n_estimators = 100,random_state = 42,max_depth = 30,min_samples_split = 10,min_samples_leaf = 5)\n",
    "model2.fit(x_train,y_train)\n",
    "model2.score(x_test,y_test)"
   ]
  },
  {
   "cell_type": "code",
   "execution_count": 89,
   "id": "8d7a5651-8992-4fdc-b2ef-70cd4e73f204",
   "metadata": {},
   "outputs": [
    {
     "data": {
      "text/plain": [
       "0.7053472152026685"
      ]
     },
     "execution_count": 89,
     "metadata": {},
     "output_type": "execute_result"
    }
   ],
   "source": [
    "from xgboost import XGBClassifier\n",
    "model3 = XGBClassifier(random_state=42,subsample = 0.8, eval_metric='logloss',learning_rate = 0.1,n_estimators = 100)\n",
    "model3.fit(x_train,y_train)\n",
    "model3.score(x_test,y_test)"
   ]
  },
  {
   "cell_type": "code",
   "execution_count": 90,
   "id": "2499e9ed-327f-4a17-9012-c4a686a804f0",
   "metadata": {},
   "outputs": [
    {
     "name": "stdout",
     "output_type": "stream",
     "text": [
      "for churn : 1\n",
      "for age : 91.0\n",
      "for credit_score : 838.0\n",
      "for deposits : 65\n",
      "for withdrawal : 29\n",
      "for purchases_partners : 1067\n",
      "for purchases : 63\n",
      "for cc_taken : 29\n",
      "for cc_recommended : 522\n",
      "for cc_disliked : 65\n",
      "for cc_liked : 27\n",
      "for cc_application_begin : 263\n",
      "for app_downloaded : 1\n",
      "for web_user : 1\n",
      "for app_web_user : 1\n",
      "for ios_user : 1\n",
      "for android_user : 1\n",
      "for registered_phones : 5\n",
      "for left_for_two_month_plus : 1\n",
      "for left_for_one_month : 1\n",
      "for rewards_earned : 114.0\n",
      "for reward_rate : 4.0\n",
      "for is_referred : 1\n"
     ]
    }
   ],
   "source": [
    "for column in df6.columns:\n",
    "    print(f'for {column} : {df6[column].max()}')"
   ]
  },
  {
   "cell_type": "code",
   "execution_count": 91,
   "id": "69c00a34-f578-4014-8a7b-600d403bfe43",
   "metadata": {},
   "outputs": [
    {
     "data": {
      "text/plain": [
       "Index(['churn', 'age', 'credit_score', 'deposits', 'withdrawal',\n",
       "       'purchases_partners', 'purchases', 'cc_taken', 'cc_recommended',\n",
       "       'cc_disliked', 'cc_liked', 'cc_application_begin', 'app_downloaded',\n",
       "       'web_user', 'app_web_user', 'ios_user', 'android_user',\n",
       "       'registered_phones', 'left_for_two_month_plus', 'left_for_one_month',\n",
       "       'rewards_earned', 'reward_rate', 'is_referred'],\n",
       "      dtype='object')"
      ]
     },
     "execution_count": 91,
     "metadata": {},
     "output_type": "execute_result"
    }
   ],
   "source": [
    "df6.columns"
   ]
  },
  {
   "cell_type": "code",
   "execution_count": 92,
   "id": "ac87c77f-af95-4aa7-803f-8bbac2c86b11",
   "metadata": {},
   "outputs": [
    {
     "data": {
      "text/html": [
       "<div>\n",
       "<style scoped>\n",
       "    .dataframe tbody tr th:only-of-type {\n",
       "        vertical-align: middle;\n",
       "    }\n",
       "\n",
       "    .dataframe tbody tr th {\n",
       "        vertical-align: top;\n",
       "    }\n",
       "\n",
       "    .dataframe thead th {\n",
       "        text-align: right;\n",
       "    }\n",
       "</style>\n",
       "<table border=\"1\" class=\"dataframe\">\n",
       "  <thead>\n",
       "    <tr style=\"text-align: right;\">\n",
       "      <th></th>\n",
       "      <th>churn</th>\n",
       "      <th>age</th>\n",
       "      <th>credit_score</th>\n",
       "      <th>deposits</th>\n",
       "      <th>withdrawal</th>\n",
       "      <th>purchases_partners</th>\n",
       "      <th>purchases</th>\n",
       "      <th>cc_taken</th>\n",
       "      <th>cc_recommended</th>\n",
       "      <th>cc_disliked</th>\n",
       "      <th>...</th>\n",
       "      <th>web_user</th>\n",
       "      <th>app_web_user</th>\n",
       "      <th>ios_user</th>\n",
       "      <th>android_user</th>\n",
       "      <th>registered_phones</th>\n",
       "      <th>left_for_two_month_plus</th>\n",
       "      <th>left_for_one_month</th>\n",
       "      <th>rewards_earned</th>\n",
       "      <th>reward_rate</th>\n",
       "      <th>is_referred</th>\n",
       "    </tr>\n",
       "  </thead>\n",
       "  <tbody>\n",
       "    <tr>\n",
       "      <th>0</th>\n",
       "      <td>0</td>\n",
       "      <td>21.0</td>\n",
       "      <td>577.000000</td>\n",
       "      <td>48</td>\n",
       "      <td>4</td>\n",
       "      <td>52</td>\n",
       "      <td>45</td>\n",
       "      <td>0</td>\n",
       "      <td>245</td>\n",
       "      <td>0</td>\n",
       "      <td>...</td>\n",
       "      <td>1</td>\n",
       "      <td>1</td>\n",
       "      <td>0</td>\n",
       "      <td>1</td>\n",
       "      <td>2</td>\n",
       "      <td>0</td>\n",
       "      <td>0</td>\n",
       "      <td>56.0</td>\n",
       "      <td>1.87</td>\n",
       "      <td>0</td>\n",
       "    </tr>\n",
       "    <tr>\n",
       "      <th>1</th>\n",
       "      <td>0</td>\n",
       "      <td>35.0</td>\n",
       "      <td>566.000000</td>\n",
       "      <td>15</td>\n",
       "      <td>0</td>\n",
       "      <td>73</td>\n",
       "      <td>15</td>\n",
       "      <td>0</td>\n",
       "      <td>199</td>\n",
       "      <td>0</td>\n",
       "      <td>...</td>\n",
       "      <td>1</td>\n",
       "      <td>1</td>\n",
       "      <td>0</td>\n",
       "      <td>1</td>\n",
       "      <td>0</td>\n",
       "      <td>0</td>\n",
       "      <td>0</td>\n",
       "      <td>49.0</td>\n",
       "      <td>1.63</td>\n",
       "      <td>0</td>\n",
       "    </tr>\n",
       "    <tr>\n",
       "      <th>2</th>\n",
       "      <td>1</td>\n",
       "      <td>31.0</td>\n",
       "      <td>519.000000</td>\n",
       "      <td>0</td>\n",
       "      <td>0</td>\n",
       "      <td>0</td>\n",
       "      <td>0</td>\n",
       "      <td>0</td>\n",
       "      <td>49</td>\n",
       "      <td>0</td>\n",
       "      <td>...</td>\n",
       "      <td>0</td>\n",
       "      <td>0</td>\n",
       "      <td>0</td>\n",
       "      <td>1</td>\n",
       "      <td>0</td>\n",
       "      <td>0</td>\n",
       "      <td>0</td>\n",
       "      <td>18.0</td>\n",
       "      <td>0.60</td>\n",
       "      <td>1</td>\n",
       "    </tr>\n",
       "    <tr>\n",
       "      <th>3</th>\n",
       "      <td>0</td>\n",
       "      <td>26.0</td>\n",
       "      <td>542.505153</td>\n",
       "      <td>0</td>\n",
       "      <td>0</td>\n",
       "      <td>30</td>\n",
       "      <td>0</td>\n",
       "      <td>0</td>\n",
       "      <td>56</td>\n",
       "      <td>0</td>\n",
       "      <td>...</td>\n",
       "      <td>1</td>\n",
       "      <td>1</td>\n",
       "      <td>0</td>\n",
       "      <td>1</td>\n",
       "      <td>2</td>\n",
       "      <td>0</td>\n",
       "      <td>0</td>\n",
       "      <td>23.0</td>\n",
       "      <td>0.77</td>\n",
       "      <td>0</td>\n",
       "    </tr>\n",
       "    <tr>\n",
       "      <th>4</th>\n",
       "      <td>0</td>\n",
       "      <td>33.0</td>\n",
       "      <td>558.000000</td>\n",
       "      <td>0</td>\n",
       "      <td>0</td>\n",
       "      <td>76</td>\n",
       "      <td>0</td>\n",
       "      <td>0</td>\n",
       "      <td>166</td>\n",
       "      <td>0</td>\n",
       "      <td>...</td>\n",
       "      <td>0</td>\n",
       "      <td>0</td>\n",
       "      <td>0</td>\n",
       "      <td>1</td>\n",
       "      <td>0</td>\n",
       "      <td>1</td>\n",
       "      <td>0</td>\n",
       "      <td>45.0</td>\n",
       "      <td>1.50</td>\n",
       "      <td>1</td>\n",
       "    </tr>\n",
       "  </tbody>\n",
       "</table>\n",
       "<p>5 rows × 23 columns</p>\n",
       "</div>"
      ],
      "text/plain": [
       "   churn   age  credit_score  deposits  withdrawal  purchases_partners  \\\n",
       "0      0  21.0    577.000000        48           4                  52   \n",
       "1      0  35.0    566.000000        15           0                  73   \n",
       "2      1  31.0    519.000000         0           0                   0   \n",
       "3      0  26.0    542.505153         0           0                  30   \n",
       "4      0  33.0    558.000000         0           0                  76   \n",
       "\n",
       "   purchases  cc_taken  cc_recommended  cc_disliked  ...  web_user  \\\n",
       "0         45         0             245            0  ...         1   \n",
       "1         15         0             199            0  ...         1   \n",
       "2          0         0              49            0  ...         0   \n",
       "3          0         0              56            0  ...         1   \n",
       "4          0         0             166            0  ...         0   \n",
       "\n",
       "   app_web_user  ios_user  android_user  registered_phones  \\\n",
       "0             1         0             1                  2   \n",
       "1             1         0             1                  0   \n",
       "2             0         0             1                  0   \n",
       "3             1         0             1                  2   \n",
       "4             0         0             1                  0   \n",
       "\n",
       "   left_for_two_month_plus  left_for_one_month  rewards_earned  reward_rate  \\\n",
       "0                        0                   0            56.0         1.87   \n",
       "1                        0                   0            49.0         1.63   \n",
       "2                        0                   0            18.0         0.60   \n",
       "3                        0                   0            23.0         0.77   \n",
       "4                        1                   0            45.0         1.50   \n",
       "\n",
       "   is_referred  \n",
       "0            0  \n",
       "1            0  \n",
       "2            1  \n",
       "3            0  \n",
       "4            1  \n",
       "\n",
       "[5 rows x 23 columns]"
      ]
     },
     "execution_count": 92,
     "metadata": {},
     "output_type": "execute_result"
    }
   ],
   "source": [
    "# since this is not giving the better expected score we need to try out to remove the outliers\n",
    "df6.head()"
   ]
  },
  {
   "cell_type": "code",
   "execution_count": 93,
   "id": "9a516101-c9df-49a7-a8da-50343e5de5e9",
   "metadata": {},
   "outputs": [
    {
     "data": {
      "text/plain": [
       "88.31762639970273"
      ]
     },
     "execution_count": 93,
     "metadata": {},
     "output_type": "execute_result"
    }
   ],
   "source": [
    "df6['cc_recommended'].std()"
   ]
  },
  {
   "cell_type": "code",
   "execution_count": 94,
   "id": "660fb175-c12d-45e2-9f7a-1f1213568566",
   "metadata": {},
   "outputs": [],
   "source": [
    "from scipy.stats import zscore\n",
    "\n",
    "z_scores = df6.apply(zscore)\n",
    "df7 = df6[(abs(z_scores) <= 3).all(axis=1)]"
   ]
  },
  {
   "cell_type": "code",
   "execution_count": 95,
   "id": "6ddfad24-b99f-4364-a2d2-647a8f3a4bf4",
   "metadata": {},
   "outputs": [
    {
     "data": {
      "text/plain": [
       "(20251, 23)"
      ]
     },
     "execution_count": 95,
     "metadata": {},
     "output_type": "execute_result"
    }
   ],
   "source": [
    "df7.shape"
   ]
  },
  {
   "cell_type": "code",
   "execution_count": 96,
   "id": "ffb2f124-83ba-4cdf-b276-06d6809ccc2e",
   "metadata": {},
   "outputs": [
    {
     "data": {
      "text/html": [
       "<div>\n",
       "<style scoped>\n",
       "    .dataframe tbody tr th:only-of-type {\n",
       "        vertical-align: middle;\n",
       "    }\n",
       "\n",
       "    .dataframe tbody tr th {\n",
       "        vertical-align: top;\n",
       "    }\n",
       "\n",
       "    .dataframe thead th {\n",
       "        text-align: right;\n",
       "    }\n",
       "</style>\n",
       "<table border=\"1\" class=\"dataframe\">\n",
       "  <thead>\n",
       "    <tr style=\"text-align: right;\">\n",
       "      <th></th>\n",
       "      <th>churn</th>\n",
       "      <th>age</th>\n",
       "      <th>credit_score</th>\n",
       "      <th>deposits</th>\n",
       "      <th>withdrawal</th>\n",
       "      <th>purchases_partners</th>\n",
       "      <th>purchases</th>\n",
       "      <th>cc_taken</th>\n",
       "      <th>cc_recommended</th>\n",
       "      <th>cc_disliked</th>\n",
       "      <th>...</th>\n",
       "      <th>web_user</th>\n",
       "      <th>app_web_user</th>\n",
       "      <th>ios_user</th>\n",
       "      <th>android_user</th>\n",
       "      <th>registered_phones</th>\n",
       "      <th>left_for_two_month_plus</th>\n",
       "      <th>left_for_one_month</th>\n",
       "      <th>rewards_earned</th>\n",
       "      <th>reward_rate</th>\n",
       "      <th>is_referred</th>\n",
       "    </tr>\n",
       "  </thead>\n",
       "  <tbody>\n",
       "    <tr>\n",
       "      <th>6847</th>\n",
       "      <td>1</td>\n",
       "      <td>31.0</td>\n",
       "      <td>542.505153</td>\n",
       "      <td>0</td>\n",
       "      <td>0</td>\n",
       "      <td>1</td>\n",
       "      <td>0</td>\n",
       "      <td>0</td>\n",
       "      <td>0</td>\n",
       "      <td>0</td>\n",
       "      <td>...</td>\n",
       "      <td>1</td>\n",
       "      <td>1</td>\n",
       "      <td>1</td>\n",
       "      <td>0</td>\n",
       "      <td>0</td>\n",
       "      <td>0</td>\n",
       "      <td>0</td>\n",
       "      <td>1.00000</td>\n",
       "      <td>0.03</td>\n",
       "      <td>0</td>\n",
       "    </tr>\n",
       "    <tr>\n",
       "      <th>17648</th>\n",
       "      <td>1</td>\n",
       "      <td>56.0</td>\n",
       "      <td>542.505153</td>\n",
       "      <td>0</td>\n",
       "      <td>0</td>\n",
       "      <td>0</td>\n",
       "      <td>0</td>\n",
       "      <td>0</td>\n",
       "      <td>7</td>\n",
       "      <td>0</td>\n",
       "      <td>...</td>\n",
       "      <td>1</td>\n",
       "      <td>1</td>\n",
       "      <td>0</td>\n",
       "      <td>1</td>\n",
       "      <td>0</td>\n",
       "      <td>0</td>\n",
       "      <td>0</td>\n",
       "      <td>6.00000</td>\n",
       "      <td>0.20</td>\n",
       "      <td>0</td>\n",
       "    </tr>\n",
       "    <tr>\n",
       "      <th>16425</th>\n",
       "      <td>0</td>\n",
       "      <td>23.0</td>\n",
       "      <td>639.000000</td>\n",
       "      <td>0</td>\n",
       "      <td>0</td>\n",
       "      <td>23</td>\n",
       "      <td>0</td>\n",
       "      <td>0</td>\n",
       "      <td>57</td>\n",
       "      <td>0</td>\n",
       "      <td>...</td>\n",
       "      <td>1</td>\n",
       "      <td>1</td>\n",
       "      <td>0</td>\n",
       "      <td>1</td>\n",
       "      <td>0</td>\n",
       "      <td>0</td>\n",
       "      <td>0</td>\n",
       "      <td>14.00000</td>\n",
       "      <td>0.47</td>\n",
       "      <td>0</td>\n",
       "    </tr>\n",
       "    <tr>\n",
       "      <th>21157</th>\n",
       "      <td>1</td>\n",
       "      <td>40.0</td>\n",
       "      <td>542.505153</td>\n",
       "      <td>0</td>\n",
       "      <td>0</td>\n",
       "      <td>2</td>\n",
       "      <td>0</td>\n",
       "      <td>0</td>\n",
       "      <td>0</td>\n",
       "      <td>0</td>\n",
       "      <td>...</td>\n",
       "      <td>1</td>\n",
       "      <td>1</td>\n",
       "      <td>1</td>\n",
       "      <td>0</td>\n",
       "      <td>0</td>\n",
       "      <td>0</td>\n",
       "      <td>0</td>\n",
       "      <td>28.89257</td>\n",
       "      <td>0.00</td>\n",
       "      <td>0</td>\n",
       "    </tr>\n",
       "    <tr>\n",
       "      <th>12744</th>\n",
       "      <td>0</td>\n",
       "      <td>29.0</td>\n",
       "      <td>542.505153</td>\n",
       "      <td>0</td>\n",
       "      <td>0</td>\n",
       "      <td>27</td>\n",
       "      <td>0</td>\n",
       "      <td>0</td>\n",
       "      <td>45</td>\n",
       "      <td>0</td>\n",
       "      <td>...</td>\n",
       "      <td>1</td>\n",
       "      <td>1</td>\n",
       "      <td>0</td>\n",
       "      <td>1</td>\n",
       "      <td>0</td>\n",
       "      <td>0</td>\n",
       "      <td>0</td>\n",
       "      <td>21.00000</td>\n",
       "      <td>0.70</td>\n",
       "      <td>0</td>\n",
       "    </tr>\n",
       "  </tbody>\n",
       "</table>\n",
       "<p>5 rows × 23 columns</p>\n",
       "</div>"
      ],
      "text/plain": [
       "       churn   age  credit_score  deposits  withdrawal  purchases_partners  \\\n",
       "6847       1  31.0    542.505153         0           0                   1   \n",
       "17648      1  56.0    542.505153         0           0                   0   \n",
       "16425      0  23.0    639.000000         0           0                  23   \n",
       "21157      1  40.0    542.505153         0           0                   2   \n",
       "12744      0  29.0    542.505153         0           0                  27   \n",
       "\n",
       "       purchases  cc_taken  cc_recommended  cc_disliked  ...  web_user  \\\n",
       "6847           0         0               0            0  ...         1   \n",
       "17648          0         0               7            0  ...         1   \n",
       "16425          0         0              57            0  ...         1   \n",
       "21157          0         0               0            0  ...         1   \n",
       "12744          0         0              45            0  ...         1   \n",
       "\n",
       "       app_web_user  ios_user  android_user  registered_phones  \\\n",
       "6847              1         1             0                  0   \n",
       "17648             1         0             1                  0   \n",
       "16425             1         0             1                  0   \n",
       "21157             1         1             0                  0   \n",
       "12744             1         0             1                  0   \n",
       "\n",
       "       left_for_two_month_plus  left_for_one_month  rewards_earned  \\\n",
       "6847                         0                   0         1.00000   \n",
       "17648                        0                   0         6.00000   \n",
       "16425                        0                   0        14.00000   \n",
       "21157                        0                   0        28.89257   \n",
       "12744                        0                   0        21.00000   \n",
       "\n",
       "       reward_rate  is_referred  \n",
       "6847          0.03            0  \n",
       "17648         0.20            0  \n",
       "16425         0.47            0  \n",
       "21157         0.00            0  \n",
       "12744         0.70            0  \n",
       "\n",
       "[5 rows x 23 columns]"
      ]
     },
     "execution_count": 96,
     "metadata": {},
     "output_type": "execute_result"
    }
   ],
   "source": [
    "df7.sample(5)"
   ]
  },
  {
   "cell_type": "code",
   "execution_count": 97,
   "id": "3f1819d2-1e56-40f7-8486-46bfff7b6a82",
   "metadata": {},
   "outputs": [],
   "source": [
    "x = df7.drop('churn',axis = 1)\n",
    "y = df7['churn']\n",
    "x_train,x_test,y_train,y_test = train_test_split(x,y,test_size = 0.4,random_state = 42)"
   ]
  },
  {
   "cell_type": "code",
   "execution_count": 98,
   "id": "5cc1a64c-8b34-4d4d-8430-b42669ece634",
   "metadata": {},
   "outputs": [
    {
     "data": {
      "text/plain": [
       "0.6370818417479324"
      ]
     },
     "execution_count": 98,
     "metadata": {},
     "output_type": "execute_result"
    }
   ],
   "source": [
    "new_model1 = LogisticRegression(max_iter = 6000,C = 0.01)\n",
    "new_model1.fit(x_train,y_train)\n",
    "new_model1.score(x_test,y_test)"
   ]
  },
  {
   "cell_type": "code",
   "execution_count": 99,
   "id": "484d03d9-fc75-4ea1-a0c0-453f291b3d34",
   "metadata": {},
   "outputs": [
    {
     "data": {
      "text/plain": [
       "0.7004073571164053"
      ]
     },
     "execution_count": 99,
     "metadata": {},
     "output_type": "execute_result"
    }
   ],
   "source": [
    "new_model2 = RandomForestClassifier(n_estimators = 100,random_state = 42,max_depth = 30,min_samples_split = 10,min_samples_leaf = 5)\n",
    "new_model2.fit(x_train,y_train)\n",
    "new_model2.score(x_test,y_test)"
   ]
  },
  {
   "cell_type": "code",
   "execution_count": 100,
   "id": "a9b7b7df-d865-4e91-92c8-9b62a3709ca4",
   "metadata": {
    "scrolled": true
   },
   "outputs": [
    {
     "data": {
      "text/plain": [
       "0.7063325515368473"
      ]
     },
     "execution_count": 100,
     "metadata": {},
     "output_type": "execute_result"
    }
   ],
   "source": [
    "new_model3 = XGBClassifier(random_state=42,subsample = 0.8, eval_metric='logloss',learning_rate = 0.1,n_estimators = 100)\n",
    "new_model3.fit(x_train,y_train)\n",
    "new_model3.score(x_test,y_test)"
   ]
  },
  {
   "cell_type": "code",
   "execution_count": 101,
   "id": "f6c073db-0bef-465d-8902-7a645666ce92",
   "metadata": {},
   "outputs": [
    {
     "name": "stdout",
     "output_type": "stream",
     "text": [
      "Best Parameters: {'criterion': 'entropy', 'max_depth': 10, 'min_samples_leaf': 1, 'min_samples_split': 20}\n",
      "Best Score: 0.681744230200743\n"
     ]
    }
   ],
   "source": [
    "from sklearn.tree import DecisionTreeClassifier\n",
    "from sklearn.model_selection import GridSearchCV\n",
    "\n",
    "\n",
    "dt = DecisionTreeClassifier()\n",
    "param_grid = {\n",
    "    'criterion': ['gini', 'entropy'],  # Splitting criterion\n",
    "    'max_depth': [None, 10, 20, 30],  # Max depth of the tree\n",
    "    'min_samples_split': [2, 10, 20],  # Minimum samples to split an internal node\n",
    "    'min_samples_leaf': [1, 5, 10],  # Minimum samples required to be at a leaf node\n",
    "}\n",
    "\n",
    "grid_search = GridSearchCV(estimator=dt, param_grid=param_grid, cv=5, scoring='accuracy', n_jobs=-1)\n",
    "grid_search.fit(x, y)\n",
    "print(f\"Best Parameters: {grid_search.best_params_}\")\n",
    "print(f\"Best Score: {grid_search.best_score_}\")"
   ]
  },
  {
   "cell_type": "code",
   "execution_count": 102,
   "id": "952a9a3d-23a6-4ca4-98e6-428513444323",
   "metadata": {},
   "outputs": [
    {
     "data": {
      "text/plain": [
       "Index(['churn', 'age', 'credit_score', 'deposits', 'withdrawal',\n",
       "       'purchases_partners', 'purchases', 'cc_taken', 'cc_recommended',\n",
       "       'cc_disliked', 'cc_liked', 'cc_application_begin', 'app_downloaded',\n",
       "       'web_user', 'app_web_user', 'ios_user', 'android_user',\n",
       "       'registered_phones', 'left_for_two_month_plus', 'left_for_one_month',\n",
       "       'rewards_earned', 'reward_rate', 'is_referred'],\n",
       "      dtype='object')"
      ]
     },
     "execution_count": 102,
     "metadata": {},
     "output_type": "execute_result"
    }
   ],
   "source": [
    "# now let us remove somne more terms which are not that effective in nature\n",
    "df7.columns"
   ]
  },
  {
   "cell_type": "code",
   "execution_count": 103,
   "id": "1c7f906d-e356-4780-9542-5b63bcec575a",
   "metadata": {},
   "outputs": [],
   "source": [
    "df8 = df7.drop(['app_web_user','withdrawal','left_for_one_month','cc_liked','cc_disliked','cc_taken','app_downloaded','cc_application_begin','is_referred'],axis = 'columns')\n",
    "x = df8.drop('churn',axis = 'columns')\n",
    "y = df8['churn']\n",
    "x_train,x_test,y_train,y_test = train_test_split(x,y,random_state = 42,test_size = 0.2)"
   ]
  },
  {
   "cell_type": "code",
   "execution_count": 104,
   "id": "8bc1aaaf-f8d0-4bd9-893c-02766a3b7771",
   "metadata": {},
   "outputs": [
    {
     "data": {
      "text/plain": [
       "0.7079733399160701"
      ]
     },
     "execution_count": 104,
     "metadata": {},
     "output_type": "execute_result"
    }
   ],
   "source": [
    "new_model3 = XGBClassifier(random_state = 42, eval_metric='logloss',learning_rate = 0.05,n_estimators = 100)\n",
    "new_model3.fit(x_train,y_train)\n",
    "y_pred = new_model3.predict(x_test)\n",
    "new_model3.score(x_test,y_test)"
   ]
  },
  {
   "cell_type": "code",
   "execution_count": 105,
   "id": "28d15e81-7793-47f9-813d-b828b77db9e4",
   "metadata": {},
   "outputs": [
    {
     "data": {
      "text/plain": [
       "4051"
      ]
     },
     "execution_count": 105,
     "metadata": {},
     "output_type": "execute_result"
    }
   ],
   "source": [
    "len(y_pred)"
   ]
  },
  {
   "cell_type": "code",
   "execution_count": 106,
   "id": "9e9e089e-6417-4f0f-9fa2-67e0b0c8b576",
   "metadata": {},
   "outputs": [
    {
     "data": {
      "text/plain": [
       "1620"
      ]
     },
     "execution_count": 106,
     "metadata": {},
     "output_type": "execute_result"
    }
   ],
   "source": [
    "np.sum(y_pred)"
   ]
  },
  {
   "cell_type": "code",
   "execution_count": 107,
   "id": "0eb691ef-fe45-4a63-a25d-39bb1a43df9e",
   "metadata": {},
   "outputs": [
    {
     "data": {
      "text/plain": [
       "1831"
      ]
     },
     "execution_count": 107,
     "metadata": {},
     "output_type": "execute_result"
    }
   ],
   "source": [
    "np.sum(y_test)"
   ]
  },
  {
   "cell_type": "code",
   "execution_count": 108,
   "id": "62d7a959-8b6d-4159-a8ff-9c57ff1fde2c",
   "metadata": {},
   "outputs": [
    {
     "data": {
      "text/plain": [
       "486"
      ]
     },
     "execution_count": 108,
     "metadata": {},
     "output_type": "execute_result"
    }
   ],
   "source": [
    "i = 0\n",
    "cnt = 0\n",
    "while(i<4051):\n",
    "    if(y_pred[i]!=y_test.iloc[i] and y_pred[i]==1):\n",
    "        cnt+=1\n",
    "    i+=1\n",
    "cnt"
   ]
  },
  {
   "cell_type": "code",
   "execution_count": 109,
   "id": "72fb4187-83cb-4d79-8c5e-8faa6cd0fda8",
   "metadata": {},
   "outputs": [
    {
     "data": {
      "text/plain": [
       "697"
      ]
     },
     "execution_count": 109,
     "metadata": {},
     "output_type": "execute_result"
    }
   ],
   "source": [
    "i = 0\n",
    "cnt = 0\n",
    "while(i<4051):\n",
    "    if(y_pred[i]!=y_test.iloc[i] and y_pred[i]==0):\n",
    "        cnt+=1\n",
    "    i+=1\n",
    "cnt"
   ]
  },
  {
   "cell_type": "code",
   "execution_count": 110,
   "id": "09ab906a-089c-450a-9127-245ecaf2e029",
   "metadata": {},
   "outputs": [
    {
     "data": {
      "text/plain": [
       "0.7089607504319921"
      ]
     },
     "execution_count": 110,
     "metadata": {},
     "output_type": "execute_result"
    }
   ],
   "source": [
    "new_model2 = RandomForestClassifier(n_estimators = 100,random_state = 42,max_depth = 30,min_samples_split = 10,min_samples_leaf = 5)\n",
    "new_model2.fit(x_train,y_train)\n",
    "new_model2.score(x_test,y_test)"
   ]
  },
  {
   "cell_type": "code",
   "execution_count": 111,
   "id": "8cc9eb7b-447b-4470-abe3-4f2aa28b32c5",
   "metadata": {},
   "outputs": [
    {
     "data": {
      "text/plain": [
       "(9182, 14)"
      ]
     },
     "execution_count": 111,
     "metadata": {},
     "output_type": "execute_result"
    }
   ],
   "source": [
    "df8[df8['churn']==1].shape"
   ]
  },
  {
   "cell_type": "code",
   "execution_count": 112,
   "id": "77c1bfd9-f320-450e-92c9-5b23b2d61edf",
   "metadata": {},
   "outputs": [
    {
     "data": {
      "text/plain": [
       "1831"
      ]
     },
     "execution_count": 112,
     "metadata": {},
     "output_type": "execute_result"
    }
   ],
   "source": [
    "i = 0\n",
    "cnt = 0\n",
    "while(i<4051):\n",
    "    if(y_test.iloc[i]==1):\n",
    "        cnt+=1\n",
    "    i+=1\n",
    "cnt"
   ]
  },
  {
   "cell_type": "code",
   "execution_count": 113,
   "id": "5fb0ee7e-481b-4f4d-8fbb-56d726f9e57a",
   "metadata": {},
   "outputs": [
    {
     "data": {
      "text/plain": [
       "1620"
      ]
     },
     "execution_count": 113,
     "metadata": {},
     "output_type": "execute_result"
    }
   ],
   "source": [
    "i = 0\n",
    "cnt = 0\n",
    "while(i<4051):\n",
    "    if(y_pred[i]==1):\n",
    "        cnt+=1\n",
    "    i+=1\n",
    "cnt"
   ]
  },
  {
   "cell_type": "code",
   "execution_count": 114,
   "id": "dd1dda0c-99cd-42d0-a929-f7f86ed72675",
   "metadata": {},
   "outputs": [
    {
     "data": {
      "text/plain": [
       "7351"
      ]
     },
     "execution_count": 114,
     "metadata": {},
     "output_type": "execute_result"
    }
   ],
   "source": [
    "i = 0\n",
    "cnt = 0\n",
    "while(i<len(y_train)):\n",
    "    if(y_train.iloc[i]==1):\n",
    "        cnt+=1\n",
    "    i+=1\n",
    "cnt"
   ]
  },
  {
   "cell_type": "code",
   "execution_count": 115,
   "id": "26d88930-5d05-497b-aac8-fdf73d0b9cf7",
   "metadata": {},
   "outputs": [
    {
     "data": {
      "text/plain": [
       "16200"
      ]
     },
     "execution_count": 115,
     "metadata": {},
     "output_type": "execute_result"
    }
   ],
   "source": [
    "len(y_train)"
   ]
  },
  {
   "cell_type": "code",
   "execution_count": 116,
   "id": "171e9d27-7043-40a5-92bb-295d5929ae5c",
   "metadata": {},
   "outputs": [
    {
     "data": {
      "text/plain": [
       "4051"
      ]
     },
     "execution_count": 116,
     "metadata": {},
     "output_type": "execute_result"
    }
   ],
   "source": [
    "len(y_test)"
   ]
  },
  {
   "cell_type": "code",
   "execution_count": 117,
   "id": "bde62967-ebd8-4366-bb4f-fbb3140afcf6",
   "metadata": {},
   "outputs": [
    {
     "data": {
      "text/plain": [
       "array([[0.11111111, 0.43421053, 0.44827586, ..., 0.        , 0.41860465,\n",
       "        0.41      ],\n",
       "       [0.2       , 0.49837222, 0.06896552, ..., 0.        , 0.3243322 ,\n",
       "        0.        ],\n",
       "       [0.44444444, 0.24671053, 0.        , ..., 0.        , 0.3255814 ,\n",
       "        0.32333333],\n",
       "       ...,\n",
       "       [0.28888889, 0.12171053, 0.        , ..., 0.        , 0.77906977,\n",
       "        0.75666667],\n",
       "       [0.37777778, 0.33881579, 0.24137931, ..., 0.        , 0.3372093 ,\n",
       "        0.33333333],\n",
       "       [0.22222222, 0.10855263, 0.06896552, ..., 1.        , 0.36046512,\n",
       "        0.35666667]])"
      ]
     },
     "execution_count": 117,
     "metadata": {},
     "output_type": "execute_result"
    }
   ],
   "source": [
    "from sklearn.svm import SVC\n",
    "from sklearn.preprocessing import MinMaxScaler\n",
    "scaler = MinMaxScaler()\n",
    "x_train_scaled = scaler.fit_transform(x_train)\n",
    "scaler = MinMaxScaler()\n",
    "x_test_scaled = scaler.fit_transform(x_test)\n",
    "x_train_scaled"
   ]
  },
  {
   "cell_type": "code",
   "execution_count": 118,
   "id": "ab2de169-885f-4d08-b1f0-253e547c49b0",
   "metadata": {},
   "outputs": [
    {
     "data": {
      "text/plain": [
       "0.6711922981979758"
      ]
     },
     "execution_count": 118,
     "metadata": {},
     "output_type": "execute_result"
    }
   ],
   "source": [
    "model = SVC(kernel = 'rbf',class_weight = 'balanced',C = 100)\n",
    "model.fit(x_train_scaled,y_train)\n",
    "model.score(x_test_scaled,y_test)"
   ]
  },
  {
   "cell_type": "code",
   "execution_count": 119,
   "id": "b0692def-5d71-4f1b-be26-a501aaa9cd14",
   "metadata": {},
   "outputs": [
    {
     "data": {
      "text/plain": [
       "0.6033078252283387"
      ]
     },
     "execution_count": 119,
     "metadata": {},
     "output_type": "execute_result"
    }
   ],
   "source": [
    "model = SVC(kernel = 'linear',class_weight = 'balanced',C = 100)\n",
    "model.fit(x_train_scaled,y_train)\n",
    "model.score(x_test_scaled,y_test)"
   ]
  },
  {
   "cell_type": "code",
   "execution_count": 120,
   "id": "49950d47-ef82-48b0-931b-c32e9cf198bb",
   "metadata": {},
   "outputs": [
    {
     "data": {
      "text/plain": [
       "0.6618118982967168"
      ]
     },
     "execution_count": 120,
     "metadata": {},
     "output_type": "execute_result"
    }
   ],
   "source": [
    "model = SVC(kernel = 'poly',class_weight = 'balanced',C = 100)\n",
    "model.fit(x_train_scaled,y_train)\n",
    "model.score(x_test_scaled,y_test)"
   ]
  },
  {
   "cell_type": "code",
   "execution_count": 121,
   "id": "9a367c15-fd7e-4d51-ab72-c2b5f448ec5f",
   "metadata": {},
   "outputs": [
    {
     "data": {
      "text/plain": [
       "0.5038262157491977"
      ]
     },
     "execution_count": 121,
     "metadata": {},
     "output_type": "execute_result"
    }
   ],
   "source": [
    "model = SVC(kernel = 'sigmoid',class_weight = 'balanced',C = 100)\n",
    "model.fit(x_train_scaled,y_train)\n",
    "model.score(x_test_scaled,y_test)"
   ]
  },
  {
   "cell_type": "code",
   "execution_count": 122,
   "id": "943cb86a-1631-4a9a-bdbf-80477b7f8503",
   "metadata": {},
   "outputs": [
    {
     "name": "stdout",
     "output_type": "stream",
     "text": [
      "1\n"
     ]
    }
   ],
   "source": [
    "print(1)"
   ]
  },
  {
   "cell_type": "code",
   "execution_count": 123,
   "id": "0ea6fdf0-43c2-4e2c-aa35-9228cf49475e",
   "metadata": {},
   "outputs": [
    {
     "data": {
      "text/plain": [
       "0.7124166872377191"
      ]
     },
     "execution_count": 123,
     "metadata": {},
     "output_type": "execute_result"
    }
   ],
   "source": [
    "new_model3 = XGBClassifier(random_state = 42,gamma = 0.8,num_parallel_tree = 4,reg_lambda = 1,max_depth =6,learning_rate = 0.05,n_estimators = 100)\n",
    "new_model3.fit(x_train,y_train)\n",
    "y_pred = new_model3.predict(x_test)\n",
    "new_model3.score(x_test,y_test)"
   ]
  },
  {
   "cell_type": "code",
   "execution_count": 125,
   "id": "e5a1b50b-18a9-4775-88eb-39f19c3524c8",
   "metadata": {},
   "outputs": [
    {
     "name": "stdout",
     "output_type": "stream",
     "text": [
      "4051 16200\n",
      "0.7153789187854851 0.7153789187854851\n",
      "4050 16201\n",
      "0.6962962962962963 0.6962962962962963\n",
      "4050 16201\n",
      "0.7123456790123457 0.7123456790123457\n",
      "4050 16201\n",
      "0.7150617283950618 0.7150617283950618\n",
      "4050 16201\n",
      "0.7093827160493827 0.7093827160493827\n"
     ]
    },
    {
     "data": {
      "text/plain": [
       "0.7096930677077145"
      ]
     },
     "execution_count": 125,
     "metadata": {},
     "output_type": "execute_result"
    }
   ],
   "source": [
    "fold = KFold(n_splits = 5,shuffle = True,random_state = 42)\n",
    "acc_list = []\n",
    "p = df6.drop('churn',axis =1)\n",
    "q = df6.churn\n",
    "for train_index,test_index in fold.split(x):\n",
    "    x_train,x_test = p.iloc[train_index],p.iloc[test_index]\n",
    "    y_train,y_test = q.iloc[train_index],q.iloc[test_index]\n",
    "    model = RandomForestClassifier(n_estimators = 100,random_state = 42,max_depth = 30,min_samples_split = 10,min_samples_leaf = 5)\n",
    "    model.fit(x_train,y_train)\n",
    "    y_pred = model.predict(x_test)\n",
    "    print(len(x_test),len(x_train))\n",
    "    print(accuracy_score(y_test,y_pred),model.score(x_test,y_test))\n",
    "    acc_list.append(model.score(x_test,y_test))\n",
    "np.mean(acc_list)"
   ]
  },
  {
   "cell_type": "code",
   "execution_count": 171,
   "id": "8168ee9d-f883-45e3-a9fa-99865fc30c17",
   "metadata": {},
   "outputs": [
    {
     "name": "stdout",
     "output_type": "stream",
     "text": [
      "0.726734139718588 0.726734139718588\n",
      "0.7088888888888889 0.7088888888888889\n",
      "0.7177777777777777 0.7177777777777777\n",
      "0.7217283950617284 0.7217283950617284\n",
      "0.725679012345679 0.725679012345679\n"
     ]
    },
    {
     "data": {
      "text/plain": [
       "0.7201616427585324"
      ]
     },
     "execution_count": 171,
     "metadata": {},
     "output_type": "execute_result"
    }
   ],
   "source": [
    "from sklearn.model_selection import KFold\n",
    "from sklearn.metrics import accuracy_score\n",
    "fold = KFold(n_splits = 5,shuffle = True,random_state = 42)\n",
    "acc_list = []\n",
    "for train_index,test_index in fold.split(x):\n",
    "    x_train,x_test = p.iloc[train_index],p.iloc[test_index]\n",
    "    y_train,y_test = q.iloc[train_index],q.iloc[test_index]\n",
    "    model = XGBClassifier(random_state = 42,gamma = 0.8,num_parallel_tree = 5,reg_lambda = 1.05,max_depth =7,learning_rate = 0.051,n_estimators = 150)\n",
    "    model.fit(x_train,y_train)\n",
    "    y_pred = model.predict(x_test)\n",
    "    print(accuracy_score(y_test,y_pred),model.score(x_test,y_test))\n",
    "    acc_list.append(model.score(x_test,y_test))\n",
    "np.mean(acc_list)"
   ]
  },
  {
   "cell_type": "code",
   "execution_count": 193,
   "id": "4e4ff5a4-eb91-4d16-9251-cdaad9f317ed",
   "metadata": {
    "scrolled": true
   },
   "outputs": [
    {
     "data": {
      "text/plain": [
       "0.7066909237921973"
      ]
     },
     "execution_count": 193,
     "metadata": {},
     "output_type": "execute_result"
    }
   ],
   "source": [
    "# so our model xgbclassifier is the best model among the other\n",
    "# here the parameters are not identified by the gridsearchcv\n",
    "# it is based on the predicting by trail and error\n",
    "# it was done because even in randomsearchcv we are not getting the better results\n",
    "# so let us make the final model \n",
    "final_model = XGBClassifier(random_state = 42,gamma = 0.8,num_parallel_tree = 4,reg_lambda = 1,max_depth =6,learning_rate = 0.05,n_estimators = 100)\n",
    "x_train,x_test,y_train,y_test = train_test_split(p,q,random_state = 42,test_size = 0.2)\n",
    "final_model.fit(x_train,y_train)\n",
    "final_model.score(x_test,y_test)"
   ]
  },
  {
   "cell_type": "code",
   "execution_count": 191,
   "id": "799be2dd-54a6-4b4e-9e47-e280451de253",
   "metadata": {},
   "outputs": [],
   "source": [
    "import pickle\n",
    "with open('Churn_Prediction_model.pkl','wb') as file:\n",
    "    pickle.dump(final_model,file)"
   ]
  }
 ],
 "metadata": {
  "kernelspec": {
   "display_name": "Python [conda env:base] *",
   "language": "python",
   "name": "conda-base-py"
  },
  "language_info": {
   "codemirror_mode": {
    "name": "ipython",
    "version": 3
   },
   "file_extension": ".py",
   "mimetype": "text/x-python",
   "name": "python",
   "nbconvert_exporter": "python",
   "pygments_lexer": "ipython3",
   "version": "3.12.7"
  }
 },
 "nbformat": 4,
 "nbformat_minor": 5
}
